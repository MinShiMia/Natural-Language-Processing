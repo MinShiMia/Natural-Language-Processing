{
 "cells": [
  {
   "cell_type": "markdown",
   "id": "37139bf5",
   "metadata": {},
   "source": [
    "<hr style=\"border:2px solid black\">\n",
    "<b> Python Web Scraping & Natural Language Processing Modeling</b>\n",
    "\n",
    "<b> Individual Project </b>\n",
    "\n",
    "<b> Min Shi </b>\n",
    "    \n",
    "<hr style=\"border:2px solid black\">"
   ]
  },
  {
   "cell_type": "markdown",
   "id": "49f68602",
   "metadata": {},
   "source": [
    "# Preparation"
   ]
  },
  {
   "cell_type": "markdown",
   "id": "8e001db3",
   "metadata": {},
   "source": [
    "## Import packages"
   ]
  },
  {
   "cell_type": "code",
   "execution_count": 1,
   "id": "5f83c77c",
   "metadata": {},
   "outputs": [],
   "source": [
    "import re\n",
    "import pandas as pd\n",
    "import numpy as np\n",
    "import matplotlib.pyplot as plt\n",
    "import seaborn as sns\n",
    "from datetime import datetime\n",
    "import statsmodels.api as sm\n",
    "import os \n",
    "from os import getcwd\n",
    "import sys\n",
    "import csv\n",
    "import gensim\n",
    "import pickle\n",
    "import string\n",
    "from collections import Counter\n",
    "from sklearn.preprocessing import OneHotEncoder\n",
    "import nltk\n",
    "from nltk.corpus import stopwords\n",
    "from nltk.stem import PorterStemmer, WordNetLemmatizer\n",
    "from nltk.sentiment.vader import SentimentIntensityAnalyzer\n",
    "from nltk.classify.scikitlearn import SklearnClassifier\n",
    "from sklearn.decomposition import LatentDirichletAllocation\n",
    "from sklearn import model_selection\n",
    "from sklearn.model_selection import train_test_split\n",
    "from sklearn.feature_extraction.text import CountVectorizer\n",
    "from sklearn.feature_extraction.text import TfidfVectorizer\n",
    "from sklearn.linear_model import LinearRegression,LogisticRegression, SGDClassifier \n",
    "from sklearn.neighbors import KNeighborsClassifier\n",
    "from sklearn.tree import DecisionTreeClassifier\n",
    "from sklearn.ensemble import RandomForestClassifier\n",
    "from sklearn.naive_bayes import BernoulliNB, MultinomialNB\n",
    "from sklearn.svm import SVC\n",
    "from scipy.sparse import csr_matrix, hstack\n",
    "from sklearn.metrics import roc_auc_score\n",
    "from vaderSentiment.vaderSentiment import SentimentIntensityAnalyzer\n",
    "from textblob import TextBlob\n",
    "import warnings\n",
    "warnings.filterwarnings(\"ignore\", category=DeprecationWarning) \n",
    "\n",
    "if not sys.warnoptions:\n",
    "    import warnings\n",
    "    warnings.simplefilter(\"ignore\")"
   ]
  },
  {
   "cell_type": "code",
   "execution_count": 2,
   "id": "26b12712",
   "metadata": {},
   "outputs": [
    {
     "name": "stderr",
     "output_type": "stream",
     "text": [
      "[nltk_data] Downloading package stopwords to /Users/min/nltk_data...\n",
      "[nltk_data]   Package stopwords is already up-to-date!\n",
      "[nltk_data] Downloading package wordnet to /Users/min/nltk_data...\n",
      "[nltk_data]   Package wordnet is already up-to-date!\n"
     ]
    },
    {
     "data": {
      "text/plain": [
       "True"
      ]
     },
     "execution_count": 2,
     "metadata": {},
     "output_type": "execute_result"
    }
   ],
   "source": [
    "nltk.download('stopwords')\n",
    "nltk.download('wordnet')"
   ]
  },
  {
   "cell_type": "markdown",
   "id": "d80c5796",
   "metadata": {},
   "source": [
    "## Specify the directory to use"
   ]
  },
  {
   "cell_type": "code",
   "execution_count": 3,
   "id": "99dedcde",
   "metadata": {},
   "outputs": [],
   "source": [
    "os.chdir(r'/Users/min/Desktop/2022 Fall Semester/BUAN 6342 NLP/Project/Proposals&Reports/Data_Analysis_in_Python')"
   ]
  },
  {
   "cell_type": "markdown",
   "id": "4a23b17d",
   "metadata": {},
   "source": [
    "# Wall Street Journal (WSJ) News"
   ]
  },
  {
   "cell_type": "code",
   "execution_count": 4,
   "id": "3c965042",
   "metadata": {},
   "outputs": [
    {
     "name": "stdout",
     "output_type": "stream",
     "text": [
      "<class 'pandas.core.frame.DataFrame'>\n",
      "RangeIndex: 7645 entries, 0 to 7644\n",
      "Data columns (total 3 columns):\n",
      " #   Column     Non-Null Count  Dtype \n",
      "---  ------     --------------  ----- \n",
      " 0   NewsTitle  5869 non-null   object\n",
      " 1   Date       7645 non-null   object\n",
      " 2   NewsText   7645 non-null   object\n",
      "dtypes: object(3)\n",
      "memory usage: 179.3+ KB\n"
     ]
    }
   ],
   "source": [
    "df1 = pd.read_csv('WSJ_US_Trade.csv')\n",
    "df1.info()"
   ]
  },
  {
   "cell_type": "code",
   "execution_count": 5,
   "id": "b4239f19",
   "metadata": {},
   "outputs": [
    {
     "data": {
      "text/html": [
       "<div>\n",
       "<style scoped>\n",
       "    .dataframe tbody tr th:only-of-type {\n",
       "        vertical-align: middle;\n",
       "    }\n",
       "\n",
       "    .dataframe tbody tr th {\n",
       "        vertical-align: top;\n",
       "    }\n",
       "\n",
       "    .dataframe thead th {\n",
       "        text-align: right;\n",
       "    }\n",
       "</style>\n",
       "<table border=\"1\" class=\"dataframe\">\n",
       "  <thead>\n",
       "    <tr style=\"text-align: right;\">\n",
       "      <th></th>\n",
       "      <th>NewsTitle</th>\n",
       "      <th>Date</th>\n",
       "      <th>NewsText</th>\n",
       "    </tr>\n",
       "  </thead>\n",
       "  <tbody>\n",
       "    <tr>\n",
       "      <th>0</th>\n",
       "      <td>Free Trade Has Been a Boon for Energy Independ...</td>\n",
       "      <td>2018-01-01</td>\n",
       "      <td>As turbulent as Donald Trump's political care...</td>\n",
       "    </tr>\n",
       "    <tr>\n",
       "      <th>1</th>\n",
       "      <td>France Looks to Deepen Trade Ties With Russia ...</td>\n",
       "      <td>2018-01-01</td>\n",
       "      <td>France is losing its appetite for trans-Atlant...</td>\n",
       "    </tr>\n",
       "    <tr>\n",
       "      <th>2</th>\n",
       "      <td>A Cold War in the Arctic Circle; NATO plans a ...</td>\n",
       "      <td>2018-01-01</td>\n",
       "      <td>The Arctic is a region of tremendous strategic...</td>\n",
       "    </tr>\n",
       "    <tr>\n",
       "      <th>3</th>\n",
       "      <td>World News: France Pursues Wider Trade Relatio...</td>\n",
       "      <td>2018-01-02</td>\n",
       "      <td>France is losing its appetite for trans-Atlant...</td>\n",
       "    </tr>\n",
       "    <tr>\n",
       "      <th>4</th>\n",
       "      <td>Free Trade Has Been a Boon for Energy Independ...</td>\n",
       "      <td>2018-01-02</td>\n",
       "      <td>As turbulent as Donald Trump's political caree...</td>\n",
       "    </tr>\n",
       "  </tbody>\n",
       "</table>\n",
       "</div>"
      ],
      "text/plain": [
       "                                           NewsTitle        Date  \\\n",
       "0  Free Trade Has Been a Boon for Energy Independ...  2018-01-01   \n",
       "1  France Looks to Deepen Trade Ties With Russia ...  2018-01-01   \n",
       "2  A Cold War in the Arctic Circle; NATO plans a ...  2018-01-01   \n",
       "3  World News: France Pursues Wider Trade Relatio...  2018-01-02   \n",
       "4  Free Trade Has Been a Boon for Energy Independ...  2018-01-02   \n",
       "\n",
       "                                            NewsText  \n",
       "0   As turbulent as Donald Trump's political care...  \n",
       "1  France is losing its appetite for trans-Atlant...  \n",
       "2  The Arctic is a region of tremendous strategic...  \n",
       "3  France is losing its appetite for trans-Atlant...  \n",
       "4  As turbulent as Donald Trump's political caree...  "
      ]
     },
     "execution_count": 5,
     "metadata": {},
     "output_type": "execute_result"
    }
   ],
   "source": [
    "df1.head()"
   ]
  },
  {
   "cell_type": "code",
   "execution_count": 6,
   "id": "d1411af7",
   "metadata": {},
   "outputs": [],
   "source": [
    "df1['Date'] = df1['Date'].astype('datetime64')"
   ]
  },
  {
   "cell_type": "code",
   "execution_count": 7,
   "id": "b96d01f3",
   "metadata": {},
   "outputs": [],
   "source": [
    "def preprocess_text(text):\n",
    "    \n",
    "    stemmer = PorterStemmer()\n",
    "    \n",
    "    # Replace Numbers\n",
    "    text = re.sub(r'\\d+', '', text)\n",
    "    \n",
    "    # Lower Case\n",
    "    text = text.split(\" \") \n",
    "    text = [x.lower() for x in text]  #making all text data lowercase\n",
    "    \n",
    "    # Stop Words\n",
    "    stopwords_english = stopwords.words('english')\n",
    "    text_processed = []\n",
    "    \n",
    "    # Extra words\n",
    "    extra_words =['say','said','use','review','th','wall','street']\n",
    "\n",
    "    for word in text:\n",
    "         # remove stopwords and punctuation\n",
    "        if (word not in stopwords_english and word not in string.punctuation and word not in extra_words): \n",
    "            # Stemming\n",
    "            stem_word = stemmer.stem(word)\n",
    "            text_processed.append(stem_word)\n",
    "            \n",
    "    # Lemmatizing \n",
    "    lemmatizer = WordNetLemmatizer()\n",
    "  \n",
    "    text = [lemmatizer.lemmatize(x) for x in text_processed]\n",
    "           \n",
    "    return ' '.join(text)"
   ]
  },
  {
   "cell_type": "code",
   "execution_count": 8,
   "id": "ff5edea7",
   "metadata": {
    "scrolled": true
   },
   "outputs": [
    {
     "data": {
      "text/plain": [
       "0       turbul donald trump' polit career thu far, alw...\n",
       "1       franc lose appetit trans-atlant trade.\\neconom...\n",
       "2       arctic region tremend strateg import global tr...\n",
       "3       franc lose appetit trans-atlant trade.\\neconom...\n",
       "4       turbul donald trump' polit career thu far, alw...\n",
       "                              ...                        \n",
       "7640    earli day parenthood, infant daughter colicki ...\n",
       "7641    rishi sunak prime minister. india britain. str...\n",
       "7642    chubb ltd. cb -.%\\ndecrease; red point triangl...\n",
       "7643    seoul—sk hynix inc., one world’ biggest chip m...\n",
       "7644    emperor penguin soon consid threaten speci end...\n",
       "Name: NewsText, Length: 7645, dtype: object"
      ]
     },
     "execution_count": 8,
     "metadata": {},
     "output_type": "execute_result"
    }
   ],
   "source": [
    "df1['NewsText'] = df1['NewsText'].apply(lambda x: preprocess_text(x))\n",
    "df1['NewsText']"
   ]
  },
  {
   "cell_type": "markdown",
   "id": "3c285b72",
   "metadata": {},
   "source": [
    "## Word Clouds"
   ]
  },
  {
   "cell_type": "code",
   "execution_count": 9,
   "id": "3d95aeb4",
   "metadata": {},
   "outputs": [
    {
     "data": {
      "text/plain": [
       "0       free trade boon energi independence; nafta del...\n",
       "1       franc look deepen trade tie russia china; brex...\n",
       "2       cold war arctic circle; nato plan new command ...\n",
       "3       world news: franc pursu wider trade relationsh...\n",
       "4                         free trade boon energi independ\n",
       "                              ...                        \n",
       "7634    hous democrat urg biden speak directli russia ...\n",
       "7637    intel ceo call new u.s. restrict chip export c...\n",
       "7642                  hurrican ian claim hit profit chubb\n",
       "7643                chip maker sk hynix slash capit spend\n",
       "7644             emperor penguin list threaten speci u.s.\n",
       "Name: NewsTitle, Length: 5869, dtype: object"
      ]
     },
     "execution_count": 9,
     "metadata": {},
     "output_type": "execute_result"
    }
   ],
   "source": [
    "df1_1 = df1['NewsTitle'].dropna()\n",
    "df1_1 = df1_1.astype('string')\n",
    "df1_1 = df1_1.apply(lambda x: preprocess_text(x))\n",
    "df1_1"
   ]
  },
  {
   "cell_type": "code",
   "execution_count": 10,
   "id": "a307f0f9",
   "metadata": {},
   "outputs": [],
   "source": [
    "# Import the wordcloud library\n",
    "from wordcloud import WordCloud\n",
    "# Join the different processed titles together.\n",
    "title_long_string = ','.join(list(df1_1.values))\n",
    "text_long_string = ','.join(list(df1['NewsText'].values))"
   ]
  },
  {
   "cell_type": "code",
   "execution_count": 11,
   "id": "0503d302",
   "metadata": {},
   "outputs": [
    {
     "data": {
      "image/png": "[encoded data removed]",
      "text/plain": [
       "<PIL.Image.Image image mode=RGB size=400x200 at 0x7F85C40D8E50>"
      ]
     },
     "execution_count": 11,
     "metadata": {},
     "output_type": "execute_result"
    }
   ],
   "source": [
    "# News Title Word Cloud\n",
    "# Create a WordCloud object\n",
    "wordcloud = WordCloud(background_color=\"white\", max_words=5000, contour_width=3, contour_color='steelblue')\n",
    "# Generate a word cloud\n",
    "wordcloud.generate(title_long_string)\n",
    "# Visualize the word cloud\n",
    "wordcloud.to_image()"
   ]
  },
  {
   "cell_type": "code",
   "execution_count": 12,
   "id": "d6f3685b",
   "metadata": {
    "scrolled": true
   },
   "outputs": [
    {
     "data": {
      "image/png": "[encoded data removed]",
      "text/plain": [
       "<PIL.Image.Image image mode=RGB size=400x200 at 0x7F85CD9CBA00>"
      ]
     },
     "execution_count": 12,
     "metadata": {},
     "output_type": "execute_result"
    }
   ],
   "source": [
    "# News Text Word Cloud\n",
    "# Create a WordCloud object\n",
    "wordcloud = WordCloud(background_color=\"white\", max_words=5000, contour_width=3, contour_color='steelblue')\n",
    "# Generate a word cloud\n",
    "wordcloud.generate(text_long_string)\n",
    "# Visualize the word cloud\n",
    "wordcloud.to_image()"
   ]
  },
  {
   "cell_type": "markdown",
   "id": "b1e11f4f",
   "metadata": {},
   "source": [
    "**Based on the word clouds, we could tell that U.S. and China are the most frequent words appeared in the news articles related to U.S. trade, which means U.S.-China trade is one important part and a focus of U.S. trade. Besides, world, new, trade, stock, tariff, trump, and global are also frequent words appeared in the news article titles while company, say, said, trump, work and include are the relatively frequent words appeared in the news article text.**"
   ]
  },
  {
   "cell_type": "markdown",
   "id": "c350dc11",
   "metadata": {},
   "source": [
    "## Topic Modeling\n",
    "Topic modeling is a type of statistical modeling for discovering the abstract “topics” that occur in a collection of documents. Latent Dirichlet Allocation (LDA) is an example of topic model and is used to classify text in a document to a particular topic. It builds a topic per document model and words per topic model, modeled as Dirichlet distributions."
   ]
  },
  {
   "cell_type": "markdown",
   "id": "026d3c0f",
   "metadata": {},
   "source": [
    "### For News Title"
   ]
  },
  {
   "cell_type": "code",
   "execution_count": 13,
   "id": "326571a7",
   "metadata": {},
   "outputs": [],
   "source": [
    "# the vectorizer object will be used to transform text to vector form\n",
    "vect = CountVectorizer(min_df = 20, max_df = 0.2, stop_words = 'english', token_pattern = '(?u)\\\\b\\\\w\\\\w\\\\w+\\\\b')\n",
    "\n",
    "# apply transformation\n",
    "tf = vect.fit_transform(df1_1)\n",
    "\n",
    "# tf_feature_names tells us what word each column in the matric represents\n",
    "tf_feature_names = vect.get_feature_names()"
   ]
  },
  {
   "cell_type": "code",
   "execution_count": 14,
   "id": "d1b579a0",
   "metadata": {},
   "outputs": [
    {
     "data": {
      "text/html": [
       "<style>#sk-container-id-1 {color: black;background-color: white;}#sk-container-id-1 pre{padding: 0;}#sk-container-id-1 div.sk-toggleable {background-color: white;}#sk-container-id-1 label.sk-toggleable__label {cursor: pointer;display: block;width: 100%;margin-bottom: 0;padding: 0.3em;box-sizing: border-box;text-align: center;}#sk-container-id-1 label.sk-toggleable__label-arrow:before {content: \"▸\";float: left;margin-right: 0.25em;color: #696969;}#sk-container-id-1 label.sk-toggleable__label-arrow:hover:before {color: black;}#sk-container-id-1 div.sk-estimator:hover label.sk-toggleable__label-arrow:before {color: black;}#sk-container-id-1 div.sk-toggleable__content {max-height: 0;max-width: 0;overflow: hidden;text-align: left;background-color: #f0f8ff;}#sk-container-id-1 div.sk-toggleable__content pre {margin: 0.2em;color: black;border-radius: 0.25em;background-color: #f0f8ff;}#sk-container-id-1 input.sk-toggleable__control:checked~div.sk-toggleable__content {max-height: 200px;max-width: 100%;overflow: auto;}#sk-container-id-1 input.sk-toggleable__control:checked~label.sk-toggleable__label-arrow:before {content: \"▾\";}#sk-container-id-1 div.sk-estimator input.sk-toggleable__control:checked~label.sk-toggleable__label {background-color: #d4ebff;}#sk-container-id-1 div.sk-label input.sk-toggleable__control:checked~label.sk-toggleable__label {background-color: #d4ebff;}#sk-container-id-1 input.sk-hidden--visually {border: 0;clip: rect(1px 1px 1px 1px);clip: rect(1px, 1px, 1px, 1px);height: 1px;margin: -1px;overflow: hidden;padding: 0;position: absolute;width: 1px;}#sk-container-id-1 div.sk-estimator {font-family: monospace;background-color: #f0f8ff;border: 1px dotted black;border-radius: 0.25em;box-sizing: border-box;margin-bottom: 0.5em;}#sk-container-id-1 div.sk-estimator:hover {background-color: #d4ebff;}#sk-container-id-1 div.sk-parallel-item::after {content: \"\";width: 100%;border-bottom: 1px solid gray;flex-grow: 1;}#sk-container-id-1 div.sk-label:hover label.sk-toggleable__label {background-color: #d4ebff;}#sk-container-id-1 div.sk-serial::before {content: \"\";position: absolute;border-left: 1px solid gray;box-sizing: border-box;top: 0;bottom: 0;left: 50%;z-index: 0;}#sk-container-id-1 div.sk-serial {display: flex;flex-direction: column;align-items: center;background-color: white;padding-right: 0.2em;padding-left: 0.2em;position: relative;}#sk-container-id-1 div.sk-item {position: relative;z-index: 1;}#sk-container-id-1 div.sk-parallel {display: flex;align-items: stretch;justify-content: center;background-color: white;position: relative;}#sk-container-id-1 div.sk-item::before, #sk-container-id-1 div.sk-parallel-item::before {content: \"\";position: absolute;border-left: 1px solid gray;box-sizing: border-box;top: 0;bottom: 0;left: 50%;z-index: -1;}#sk-container-id-1 div.sk-parallel-item {display: flex;flex-direction: column;z-index: 1;position: relative;background-color: white;}#sk-container-id-1 div.sk-parallel-item:first-child::after {align-self: flex-end;width: 50%;}#sk-container-id-1 div.sk-parallel-item:last-child::after {align-self: flex-start;width: 50%;}#sk-container-id-1 div.sk-parallel-item:only-child::after {width: 0;}#sk-container-id-1 div.sk-dashed-wrapped {border: 1px dashed gray;margin: 0 0.4em 0.5em 0.4em;box-sizing: border-box;padding-bottom: 0.4em;background-color: white;}#sk-container-id-1 div.sk-label label {font-family: monospace;font-weight: bold;display: inline-block;line-height: 1.2em;}#sk-container-id-1 div.sk-label-container {text-align: center;}#sk-container-id-1 div.sk-container {/* jupyter's `normalize.less` sets `[hidden] { display: none; }` but bootstrap.min.css set `[hidden] { display: none !important; }` so we also need the `!important` here to be able to override the default hidden behavior on the sphinx rendered scikit-learn.org. See: https://github.com/scikit-learn/scikit-learn/issues/21755 */display: inline-block !important;position: relative;}#sk-container-id-1 div.sk-text-repr-fallback {display: none;}</style><div id=\"sk-container-id-1\" class=\"sk-top-container\"><div class=\"sk-text-repr-fallback\"><pre>LatentDirichletAllocation(random_state=34)</pre><b>In a Jupyter environment, please rerun this cell to show the HTML representation or trust the notebook. <br />On GitHub, the HTML representation is unable to render, please try loading this page with nbviewer.org.</b></div><div class=\"sk-container\" hidden><div class=\"sk-item\"><div class=\"sk-estimator sk-toggleable\"><input class=\"sk-toggleable__control sk-hidden--visually\" id=\"sk-estimator-id-1\" type=\"checkbox\" checked><label for=\"sk-estimator-id-1\" class=\"sk-toggleable__label sk-toggleable__label-arrow\">LatentDirichletAllocation</label><div class=\"sk-toggleable__content\"><pre>LatentDirichletAllocation(random_state=34)</pre></div></div></div></div></div>"
      ],
      "text/plain": [
       "LatentDirichletAllocation(random_state=34)"
      ]
     },
     "execution_count": 14,
     "metadata": {},
     "output_type": "execute_result"
    }
   ],
   "source": [
    "number_of_topics = 10\n",
    "\n",
    "Ldamodel = LatentDirichletAllocation(n_components=number_of_topics, random_state=34)\n",
    "\n",
    "Ldamodel.fit(tf)"
   ]
  },
  {
   "cell_type": "code",
   "execution_count": 15,
   "id": "98cbd948",
   "metadata": {},
   "outputs": [],
   "source": [
    "def display_topics(Ldamodel, feature_names, no_top_words):\n",
    "    topic_dict = {}\n",
    "    for topic_idx, topic in enumerate(Ldamodel.components_):\n",
    "        topic_dict[\"Topic %d words\" % (topic_idx)]= ['{}'.format(feature_names[i])\n",
    "                        for i in topic.argsort()[:-no_top_words - 1:-1]]\n",
    "        topic_dict[\"Topic %d weights\" % (topic_idx)]= ['{:.1f}'.format(topic[i])\n",
    "                        for i in topic.argsort()[:-no_top_words - 1:-1]]\n",
    "    return pd.DataFrame(topic_dict)"
   ]
  },
  {
   "cell_type": "markdown",
   "id": "eff5d35e",
   "metadata": {},
   "source": [
    "#### LDA Topics\n",
    "Using ldamodel, find a list of the 10 topics and the most significant 10 words in each topic. This should be structured as a list of 10 tuples."
   ]
  },
  {
   "cell_type": "code",
   "execution_count": 16,
   "id": "3bfab278",
   "metadata": {},
   "outputs": [
    {
     "data": {
      "text/html": [
       "<div>\n",
       "<style scoped>\n",
       "    .dataframe tbody tr th:only-of-type {\n",
       "        vertical-align: middle;\n",
       "    }\n",
       "\n",
       "    .dataframe tbody tr th {\n",
       "        vertical-align: top;\n",
       "    }\n",
       "\n",
       "    .dataframe thead th {\n",
       "        text-align: right;\n",
       "    }\n",
       "</style>\n",
       "<table border=\"1\" class=\"dataframe\">\n",
       "  <thead>\n",
       "    <tr style=\"text-align: right;\">\n",
       "      <th></th>\n",
       "      <th>Topic 0 words</th>\n",
       "      <th>Topic 0 weights</th>\n",
       "      <th>Topic 1 words</th>\n",
       "      <th>Topic 1 weights</th>\n",
       "      <th>Topic 2 words</th>\n",
       "      <th>Topic 2 weights</th>\n",
       "      <th>Topic 3 words</th>\n",
       "      <th>Topic 3 weights</th>\n",
       "      <th>Topic 4 words</th>\n",
       "      <th>Topic 4 weights</th>\n",
       "      <th>Topic 5 words</th>\n",
       "      <th>Topic 5 weights</th>\n",
       "      <th>Topic 6 words</th>\n",
       "      <th>Topic 6 weights</th>\n",
       "      <th>Topic 7 words</th>\n",
       "      <th>Topic 7 weights</th>\n",
       "      <th>Topic 8 words</th>\n",
       "      <th>Topic 8 weights</th>\n",
       "      <th>Topic 9 words</th>\n",
       "      <th>Topic 9 weights</th>\n",
       "    </tr>\n",
       "  </thead>\n",
       "  <tbody>\n",
       "    <tr>\n",
       "      <th>0</th>\n",
       "      <td>market</td>\n",
       "      <td>214.2</td>\n",
       "      <td>news</td>\n",
       "      <td>730.0</td>\n",
       "      <td>hous</td>\n",
       "      <td>79.1</td>\n",
       "      <td>trade</td>\n",
       "      <td>320.3</td>\n",
       "      <td>covid</td>\n",
       "      <td>268.7</td>\n",
       "      <td>new</td>\n",
       "      <td>311.4</td>\n",
       "      <td>price</td>\n",
       "      <td>207.0</td>\n",
       "      <td>review</td>\n",
       "      <td>204.1</td>\n",
       "      <td>trump</td>\n",
       "      <td>465.4</td>\n",
       "      <td>china</td>\n",
       "      <td>251.8</td>\n",
       "    </tr>\n",
       "    <tr>\n",
       "      <th>1</th>\n",
       "      <td>exchang</td>\n",
       "      <td>168.1</td>\n",
       "      <td>world</td>\n",
       "      <td>491.8</td>\n",
       "      <td>ahead</td>\n",
       "      <td>73.0</td>\n",
       "      <td>china</td>\n",
       "      <td>199.1</td>\n",
       "      <td>say</td>\n",
       "      <td>115.8</td>\n",
       "      <td>bank</td>\n",
       "      <td>79.4</td>\n",
       "      <td>oil</td>\n",
       "      <td>176.9</td>\n",
       "      <td>biden</td>\n",
       "      <td>157.0</td>\n",
       "      <td>tariff</td>\n",
       "      <td>381.5</td>\n",
       "      <td>chine</td>\n",
       "      <td>113.2</td>\n",
       "    </tr>\n",
       "    <tr>\n",
       "      <th>2</th>\n",
       "      <td>stock</td>\n",
       "      <td>92.5</td>\n",
       "      <td>china</td>\n",
       "      <td>194.2</td>\n",
       "      <td>economi</td>\n",
       "      <td>65.4</td>\n",
       "      <td>hit</td>\n",
       "      <td>142.0</td>\n",
       "      <td>vaccin</td>\n",
       "      <td>104.1</td>\n",
       "      <td>york</td>\n",
       "      <td>54.1</td>\n",
       "      <td>stock</td>\n",
       "      <td>169.7</td>\n",
       "      <td>russia</td>\n",
       "      <td>78.9</td>\n",
       "      <td>trade</td>\n",
       "      <td>283.7</td>\n",
       "      <td>news</td>\n",
       "      <td>100.3</td>\n",
       "    </tr>\n",
       "    <tr>\n",
       "      <th>3</th>\n",
       "      <td>amp</td>\n",
       "      <td>80.5</td>\n",
       "      <td>trade</td>\n",
       "      <td>123.3</td>\n",
       "      <td>white</td>\n",
       "      <td>50.1</td>\n",
       "      <td>talk</td>\n",
       "      <td>112.8</td>\n",
       "      <td>state</td>\n",
       "      <td>57.5</td>\n",
       "      <td>product</td>\n",
       "      <td>48.9</td>\n",
       "      <td>rise</td>\n",
       "      <td>130.8</td>\n",
       "      <td>court</td>\n",
       "      <td>74.1</td>\n",
       "      <td>china</td>\n",
       "      <td>205.6</td>\n",
       "      <td>busi</td>\n",
       "      <td>95.7</td>\n",
       "    </tr>\n",
       "    <tr>\n",
       "      <th>4</th>\n",
       "      <td>fall</td>\n",
       "      <td>77.9</td>\n",
       "      <td>growth</td>\n",
       "      <td>97.5</td>\n",
       "      <td>cut</td>\n",
       "      <td>48.7</td>\n",
       "      <td>deal</td>\n",
       "      <td>94.0</td>\n",
       "      <td>test</td>\n",
       "      <td>48.7</td>\n",
       "      <td>china</td>\n",
       "      <td>47.3</td>\n",
       "      <td>investor</td>\n",
       "      <td>118.1</td>\n",
       "      <td>rule</td>\n",
       "      <td>73.0</td>\n",
       "      <td>war</td>\n",
       "      <td>108.2</td>\n",
       "      <td>firm</td>\n",
       "      <td>92.7</td>\n",
       "    </tr>\n",
       "    <tr>\n",
       "      <th>5</th>\n",
       "      <td>china</td>\n",
       "      <td>68.9</td>\n",
       "      <td>busi</td>\n",
       "      <td>94.4</td>\n",
       "      <td>tax</td>\n",
       "      <td>48.1</td>\n",
       "      <td>report</td>\n",
       "      <td>79.3</td>\n",
       "      <td>elect</td>\n",
       "      <td>47.9</td>\n",
       "      <td>billion</td>\n",
       "      <td>41.9</td>\n",
       "      <td>fed</td>\n",
       "      <td>83.4</td>\n",
       "      <td>ukrain</td>\n",
       "      <td>67.3</td>\n",
       "      <td>steel</td>\n",
       "      <td>78.1</td>\n",
       "      <td>maker</td>\n",
       "      <td>74.9</td>\n",
       "    </tr>\n",
       "    <tr>\n",
       "      <th>6</th>\n",
       "      <td>week</td>\n",
       "      <td>57.8</td>\n",
       "      <td>beij</td>\n",
       "      <td>70.2</td>\n",
       "      <td>crisi</td>\n",
       "      <td>47.1</td>\n",
       "      <td>record</td>\n",
       "      <td>74.1</td>\n",
       "      <td>case</td>\n",
       "      <td>47.6</td>\n",
       "      <td>tesla</td>\n",
       "      <td>39.9</td>\n",
       "      <td>year</td>\n",
       "      <td>69.3</td>\n",
       "      <td>plan</td>\n",
       "      <td>59.1</td>\n",
       "      <td>presid</td>\n",
       "      <td>75.5</td>\n",
       "      <td>north</td>\n",
       "      <td>68.1</td>\n",
       "    </tr>\n",
       "    <tr>\n",
       "      <th>7</th>\n",
       "      <td>day</td>\n",
       "      <td>56.1</td>\n",
       "      <td>capit</td>\n",
       "      <td>70.1</td>\n",
       "      <td>set</td>\n",
       "      <td>43.0</td>\n",
       "      <td>tension</td>\n",
       "      <td>51.5</td>\n",
       "      <td>ceo</td>\n",
       "      <td>46.8</td>\n",
       "      <td>dollar</td>\n",
       "      <td>38.1</td>\n",
       "      <td>worri</td>\n",
       "      <td>66.3</td>\n",
       "      <td>pandem</td>\n",
       "      <td>53.0</td>\n",
       "      <td>import</td>\n",
       "      <td>57.9</td>\n",
       "      <td>korea</td>\n",
       "      <td>66.1</td>\n",
       "    </tr>\n",
       "    <tr>\n",
       "      <th>8</th>\n",
       "      <td>data</td>\n",
       "      <td>46.3</td>\n",
       "      <td>economi</td>\n",
       "      <td>62.7</td>\n",
       "      <td>oil</td>\n",
       "      <td>40.8</td>\n",
       "      <td>econom</td>\n",
       "      <td>48.0</td>\n",
       "      <td>biden</td>\n",
       "      <td>43.7</td>\n",
       "      <td>shift</td>\n",
       "      <td>37.8</td>\n",
       "      <td>global</td>\n",
       "      <td>64.1</td>\n",
       "      <td>foreign</td>\n",
       "      <td>47.4</td>\n",
       "      <td>tariffs</td>\n",
       "      <td>55.4</td>\n",
       "      <td>sanction</td>\n",
       "      <td>63.4</td>\n",
       "    </tr>\n",
       "    <tr>\n",
       "      <th>9</th>\n",
       "      <td>markets</td>\n",
       "      <td>43.1</td>\n",
       "      <td>global</td>\n",
       "      <td>56.8</td>\n",
       "      <td>say</td>\n",
       "      <td>38.7</td>\n",
       "      <td>year</td>\n",
       "      <td>46.8</td>\n",
       "      <td>trump</td>\n",
       "      <td>37.6</td>\n",
       "      <td>job</td>\n",
       "      <td>36.3</td>\n",
       "      <td>fear</td>\n",
       "      <td>61.7</td>\n",
       "      <td>work</td>\n",
       "      <td>46.1</td>\n",
       "      <td>good</td>\n",
       "      <td>49.5</td>\n",
       "      <td>sale</td>\n",
       "      <td>61.8</td>\n",
       "    </tr>\n",
       "  </tbody>\n",
       "</table>\n",
       "</div>"
      ],
      "text/plain": [
       "  Topic 0 words Topic 0 weights Topic 1 words Topic 1 weights Topic 2 words  \\\n",
       "0        market           214.2          news           730.0          hous   \n",
       "1       exchang           168.1         world           491.8         ahead   \n",
       "2         stock            92.5         china           194.2       economi   \n",
       "3           amp            80.5         trade           123.3         white   \n",
       "4          fall            77.9        growth            97.5           cut   \n",
       "5         china            68.9          busi            94.4           tax   \n",
       "6          week            57.8          beij            70.2         crisi   \n",
       "7           day            56.1         capit            70.1           set   \n",
       "8          data            46.3       economi            62.7           oil   \n",
       "9       markets            43.1        global            56.8           say   \n",
       "\n",
       "  Topic 2 weights Topic 3 words Topic 3 weights Topic 4 words Topic 4 weights  \\\n",
       "0            79.1         trade           320.3         covid           268.7   \n",
       "1            73.0         china           199.1           say           115.8   \n",
       "2            65.4           hit           142.0        vaccin           104.1   \n",
       "3            50.1          talk           112.8         state            57.5   \n",
       "4            48.7          deal            94.0          test            48.7   \n",
       "5            48.1        report            79.3         elect            47.9   \n",
       "6            47.1        record            74.1          case            47.6   \n",
       "7            43.0       tension            51.5           ceo            46.8   \n",
       "8            40.8        econom            48.0         biden            43.7   \n",
       "9            38.7          year            46.8         trump            37.6   \n",
       "\n",
       "  Topic 5 words Topic 5 weights Topic 6 words Topic 6 weights Topic 7 words  \\\n",
       "0           new           311.4         price           207.0        review   \n",
       "1          bank            79.4           oil           176.9         biden   \n",
       "2          york            54.1         stock           169.7        russia   \n",
       "3       product            48.9          rise           130.8         court   \n",
       "4         china            47.3      investor           118.1          rule   \n",
       "5       billion            41.9           fed            83.4        ukrain   \n",
       "6         tesla            39.9          year            69.3          plan   \n",
       "7        dollar            38.1         worri            66.3        pandem   \n",
       "8         shift            37.8        global            64.1       foreign   \n",
       "9           job            36.3          fear            61.7          work   \n",
       "\n",
       "  Topic 7 weights Topic 8 words Topic 8 weights Topic 9 words Topic 9 weights  \n",
       "0           204.1         trump           465.4         china           251.8  \n",
       "1           157.0        tariff           381.5         chine           113.2  \n",
       "2            78.9         trade           283.7          news           100.3  \n",
       "3            74.1         china           205.6          busi            95.7  \n",
       "4            73.0           war           108.2          firm            92.7  \n",
       "5            67.3         steel            78.1         maker            74.9  \n",
       "6            59.1        presid            75.5         north            68.1  \n",
       "7            53.0        import            57.9         korea            66.1  \n",
       "8            47.4       tariffs            55.4      sanction            63.4  \n",
       "9            46.1          good            49.5          sale            61.8  "
      ]
     },
     "execution_count": 16,
     "metadata": {},
     "output_type": "execute_result"
    }
   ],
   "source": [
    "no_top_words = 10\n",
    "df_topics = display_topics(Ldamodel, tf_feature_names, no_top_words)\n",
    "df_topics"
   ]
  },
  {
   "cell_type": "markdown",
   "id": "fd05a7a1",
   "metadata": {},
   "source": [
    "#### Topic Names\n",
    "From the list of the following given topics, assign topic names to the topics you found. If none of these names best matches the topics you found, create a new 1-3 word \"title\" for the topic."
   ]
  },
  {
   "cell_type": "code",
   "execution_count": 17,
   "id": "7cef05d2",
   "metadata": {},
   "outputs": [],
   "source": [
    "df_topics = df_topics.rename(columns = {'Topic 0 words': 'Topic 1 Market', \n",
    "                                       'Topic 1 words': 'Topic 2 Global Trade', \n",
    "                                       'Topic 2 words': 'Topic 3 Economy',\n",
    "                                       'Topic 3 words': 'Topic 4 Trade & Deal',\n",
    "                                       'Topic 4 words': 'Topic 5 Covid & Vaccine',\n",
    "                                       'Topic 5 words': 'Topic 6 Products',\n",
    "                                       'Topic 6 words': 'Topic 7 Invest',\n",
    "                                       'Topic 7 words': 'Topic 8 Russia & Ukraine',\n",
    "                                       'Topic 8 words': 'Topic 9 Trade War',\n",
    "                                       'Topic 9 words': 'Topic 10 China'\n",
    "                                       })\n",
    "df_topics = df_topics.drop(columns = ['Topic 0 weights', 'Topic 1 weights', 'Topic 2 weights',\n",
    "                                      'Topic 3 weights', 'Topic 4 weights', 'Topic 5 weights',\n",
    "                                      'Topic 6 weights', 'Topic 7 weights', 'Topic 8 weights',\n",
    "                                      'Topic 9 weights'], axis = 1)"
   ]
  },
  {
   "cell_type": "code",
   "execution_count": 18,
   "id": "b63c0fdb",
   "metadata": {
    "scrolled": true
   },
   "outputs": [
    {
     "data": {
      "text/html": [
       "<div>\n",
       "<style scoped>\n",
       "    .dataframe tbody tr th:only-of-type {\n",
       "        vertical-align: middle;\n",
       "    }\n",
       "\n",
       "    .dataframe tbody tr th {\n",
       "        vertical-align: top;\n",
       "    }\n",
       "\n",
       "    .dataframe thead th {\n",
       "        text-align: right;\n",
       "    }\n",
       "</style>\n",
       "<table border=\"1\" class=\"dataframe\">\n",
       "  <thead>\n",
       "    <tr style=\"text-align: right;\">\n",
       "      <th></th>\n",
       "      <th>Topic 1 Market</th>\n",
       "      <th>Topic 2 Global Trade</th>\n",
       "      <th>Topic 3 Economy</th>\n",
       "      <th>Topic 4 Trade &amp; Deal</th>\n",
       "      <th>Topic 5 Covid &amp; Vaccine</th>\n",
       "      <th>Topic 6 Products</th>\n",
       "      <th>Topic 7 Invest</th>\n",
       "      <th>Topic 8 Russia &amp; Ukraine</th>\n",
       "      <th>Topic 9 Trade War</th>\n",
       "      <th>Topic 10 China</th>\n",
       "    </tr>\n",
       "  </thead>\n",
       "  <tbody>\n",
       "    <tr>\n",
       "      <th>0</th>\n",
       "      <td>market</td>\n",
       "      <td>news</td>\n",
       "      <td>hous</td>\n",
       "      <td>trade</td>\n",
       "      <td>covid</td>\n",
       "      <td>new</td>\n",
       "      <td>price</td>\n",
       "      <td>review</td>\n",
       "      <td>trump</td>\n",
       "      <td>china</td>\n",
       "    </tr>\n",
       "    <tr>\n",
       "      <th>1</th>\n",
       "      <td>exchang</td>\n",
       "      <td>world</td>\n",
       "      <td>ahead</td>\n",
       "      <td>china</td>\n",
       "      <td>say</td>\n",
       "      <td>bank</td>\n",
       "      <td>oil</td>\n",
       "      <td>biden</td>\n",
       "      <td>tariff</td>\n",
       "      <td>chine</td>\n",
       "    </tr>\n",
       "    <tr>\n",
       "      <th>2</th>\n",
       "      <td>stock</td>\n",
       "      <td>china</td>\n",
       "      <td>economi</td>\n",
       "      <td>hit</td>\n",
       "      <td>vaccin</td>\n",
       "      <td>york</td>\n",
       "      <td>stock</td>\n",
       "      <td>russia</td>\n",
       "      <td>trade</td>\n",
       "      <td>news</td>\n",
       "    </tr>\n",
       "    <tr>\n",
       "      <th>3</th>\n",
       "      <td>amp</td>\n",
       "      <td>trade</td>\n",
       "      <td>white</td>\n",
       "      <td>talk</td>\n",
       "      <td>state</td>\n",
       "      <td>product</td>\n",
       "      <td>rise</td>\n",
       "      <td>court</td>\n",
       "      <td>china</td>\n",
       "      <td>busi</td>\n",
       "    </tr>\n",
       "    <tr>\n",
       "      <th>4</th>\n",
       "      <td>fall</td>\n",
       "      <td>growth</td>\n",
       "      <td>cut</td>\n",
       "      <td>deal</td>\n",
       "      <td>test</td>\n",
       "      <td>china</td>\n",
       "      <td>investor</td>\n",
       "      <td>rule</td>\n",
       "      <td>war</td>\n",
       "      <td>firm</td>\n",
       "    </tr>\n",
       "    <tr>\n",
       "      <th>5</th>\n",
       "      <td>china</td>\n",
       "      <td>busi</td>\n",
       "      <td>tax</td>\n",
       "      <td>report</td>\n",
       "      <td>elect</td>\n",
       "      <td>billion</td>\n",
       "      <td>fed</td>\n",
       "      <td>ukrain</td>\n",
       "      <td>steel</td>\n",
       "      <td>maker</td>\n",
       "    </tr>\n",
       "    <tr>\n",
       "      <th>6</th>\n",
       "      <td>week</td>\n",
       "      <td>beij</td>\n",
       "      <td>crisi</td>\n",
       "      <td>record</td>\n",
       "      <td>case</td>\n",
       "      <td>tesla</td>\n",
       "      <td>year</td>\n",
       "      <td>plan</td>\n",
       "      <td>presid</td>\n",
       "      <td>north</td>\n",
       "    </tr>\n",
       "    <tr>\n",
       "      <th>7</th>\n",
       "      <td>day</td>\n",
       "      <td>capit</td>\n",
       "      <td>set</td>\n",
       "      <td>tension</td>\n",
       "      <td>ceo</td>\n",
       "      <td>dollar</td>\n",
       "      <td>worri</td>\n",
       "      <td>pandem</td>\n",
       "      <td>import</td>\n",
       "      <td>korea</td>\n",
       "    </tr>\n",
       "    <tr>\n",
       "      <th>8</th>\n",
       "      <td>data</td>\n",
       "      <td>economi</td>\n",
       "      <td>oil</td>\n",
       "      <td>econom</td>\n",
       "      <td>biden</td>\n",
       "      <td>shift</td>\n",
       "      <td>global</td>\n",
       "      <td>foreign</td>\n",
       "      <td>tariffs</td>\n",
       "      <td>sanction</td>\n",
       "    </tr>\n",
       "    <tr>\n",
       "      <th>9</th>\n",
       "      <td>markets</td>\n",
       "      <td>global</td>\n",
       "      <td>say</td>\n",
       "      <td>year</td>\n",
       "      <td>trump</td>\n",
       "      <td>job</td>\n",
       "      <td>fear</td>\n",
       "      <td>work</td>\n",
       "      <td>good</td>\n",
       "      <td>sale</td>\n",
       "    </tr>\n",
       "  </tbody>\n",
       "</table>\n",
       "</div>"
      ],
      "text/plain": [
       "  Topic 1 Market Topic 2 Global Trade Topic 3 Economy Topic 4 Trade & Deal  \\\n",
       "0         market                 news            hous                trade   \n",
       "1        exchang                world           ahead                china   \n",
       "2          stock                china         economi                  hit   \n",
       "3            amp                trade           white                 talk   \n",
       "4           fall               growth             cut                 deal   \n",
       "5          china                 busi             tax               report   \n",
       "6           week                 beij           crisi               record   \n",
       "7            day                capit             set              tension   \n",
       "8           data              economi             oil               econom   \n",
       "9        markets               global             say                 year   \n",
       "\n",
       "  Topic 5 Covid & Vaccine Topic 6 Products Topic 7 Invest  \\\n",
       "0                   covid              new          price   \n",
       "1                     say             bank            oil   \n",
       "2                  vaccin             york          stock   \n",
       "3                   state          product           rise   \n",
       "4                    test            china       investor   \n",
       "5                   elect          billion            fed   \n",
       "6                    case            tesla           year   \n",
       "7                     ceo           dollar          worri   \n",
       "8                   biden            shift         global   \n",
       "9                   trump              job           fear   \n",
       "\n",
       "  Topic 8 Russia & Ukraine Topic 9 Trade War Topic 10 China  \n",
       "0                   review             trump          china  \n",
       "1                    biden            tariff          chine  \n",
       "2                   russia             trade           news  \n",
       "3                    court             china           busi  \n",
       "4                     rule               war           firm  \n",
       "5                   ukrain             steel          maker  \n",
       "6                     plan            presid          north  \n",
       "7                   pandem            import          korea  \n",
       "8                  foreign           tariffs       sanction  \n",
       "9                     work              good           sale  "
      ]
     },
     "execution_count": 18,
     "metadata": {},
     "output_type": "execute_result"
    }
   ],
   "source": [
    "df_topics.to_csv('News_Title_Topics.csv')\n",
    "df_topics"
   ]
  },
  {
   "cell_type": "markdown",
   "id": "9ee5bd9f",
   "metadata": {},
   "source": [
    "### For News Text"
   ]
  },
  {
   "cell_type": "code",
   "execution_count": 19,
   "id": "a49597df",
   "metadata": {},
   "outputs": [],
   "source": [
    "# the vectorizer object will be used to transform text to vector form\n",
    "vect = CountVectorizer(min_df = 20, max_df = 0.2, stop_words = 'english', token_pattern = '(?u)\\\\b\\\\w\\\\w+\\\\b')\n",
    "\n",
    "# apply transformation\n",
    "tf = vect.fit_transform(df1['NewsText'])\n",
    "\n",
    "# tf_feature_names tells us what word each column in the matric represents\n",
    "tf_feature_names = vect.get_feature_names()"
   ]
  },
  {
   "cell_type": "code",
   "execution_count": 20,
   "id": "76dbfa79",
   "metadata": {},
   "outputs": [
    {
     "data": {
      "text/html": [
       "<style>#sk-container-id-2 {color: black;background-color: white;}#sk-container-id-2 pre{padding: 0;}#sk-container-id-2 div.sk-toggleable {background-color: white;}#sk-container-id-2 label.sk-toggleable__label {cursor: pointer;display: block;width: 100%;margin-bottom: 0;padding: 0.3em;box-sizing: border-box;text-align: center;}#sk-container-id-2 label.sk-toggleable__label-arrow:before {content: \"▸\";float: left;margin-right: 0.25em;color: #696969;}#sk-container-id-2 label.sk-toggleable__label-arrow:hover:before {color: black;}#sk-container-id-2 div.sk-estimator:hover label.sk-toggleable__label-arrow:before {color: black;}#sk-container-id-2 div.sk-toggleable__content {max-height: 0;max-width: 0;overflow: hidden;text-align: left;background-color: #f0f8ff;}#sk-container-id-2 div.sk-toggleable__content pre {margin: 0.2em;color: black;border-radius: 0.25em;background-color: #f0f8ff;}#sk-container-id-2 input.sk-toggleable__control:checked~div.sk-toggleable__content {max-height: 200px;max-width: 100%;overflow: auto;}#sk-container-id-2 input.sk-toggleable__control:checked~label.sk-toggleable__label-arrow:before {content: \"▾\";}#sk-container-id-2 div.sk-estimator input.sk-toggleable__control:checked~label.sk-toggleable__label {background-color: #d4ebff;}#sk-container-id-2 div.sk-label input.sk-toggleable__control:checked~label.sk-toggleable__label {background-color: #d4ebff;}#sk-container-id-2 input.sk-hidden--visually {border: 0;clip: rect(1px 1px 1px 1px);clip: rect(1px, 1px, 1px, 1px);height: 1px;margin: -1px;overflow: hidden;padding: 0;position: absolute;width: 1px;}#sk-container-id-2 div.sk-estimator {font-family: monospace;background-color: #f0f8ff;border: 1px dotted black;border-radius: 0.25em;box-sizing: border-box;margin-bottom: 0.5em;}#sk-container-id-2 div.sk-estimator:hover {background-color: #d4ebff;}#sk-container-id-2 div.sk-parallel-item::after {content: \"\";width: 100%;border-bottom: 1px solid gray;flex-grow: 1;}#sk-container-id-2 div.sk-label:hover label.sk-toggleable__label {background-color: #d4ebff;}#sk-container-id-2 div.sk-serial::before {content: \"\";position: absolute;border-left: 1px solid gray;box-sizing: border-box;top: 0;bottom: 0;left: 50%;z-index: 0;}#sk-container-id-2 div.sk-serial {display: flex;flex-direction: column;align-items: center;background-color: white;padding-right: 0.2em;padding-left: 0.2em;position: relative;}#sk-container-id-2 div.sk-item {position: relative;z-index: 1;}#sk-container-id-2 div.sk-parallel {display: flex;align-items: stretch;justify-content: center;background-color: white;position: relative;}#sk-container-id-2 div.sk-item::before, #sk-container-id-2 div.sk-parallel-item::before {content: \"\";position: absolute;border-left: 1px solid gray;box-sizing: border-box;top: 0;bottom: 0;left: 50%;z-index: -1;}#sk-container-id-2 div.sk-parallel-item {display: flex;flex-direction: column;z-index: 1;position: relative;background-color: white;}#sk-container-id-2 div.sk-parallel-item:first-child::after {align-self: flex-end;width: 50%;}#sk-container-id-2 div.sk-parallel-item:last-child::after {align-self: flex-start;width: 50%;}#sk-container-id-2 div.sk-parallel-item:only-child::after {width: 0;}#sk-container-id-2 div.sk-dashed-wrapped {border: 1px dashed gray;margin: 0 0.4em 0.5em 0.4em;box-sizing: border-box;padding-bottom: 0.4em;background-color: white;}#sk-container-id-2 div.sk-label label {font-family: monospace;font-weight: bold;display: inline-block;line-height: 1.2em;}#sk-container-id-2 div.sk-label-container {text-align: center;}#sk-container-id-2 div.sk-container {/* jupyter's `normalize.less` sets `[hidden] { display: none; }` but bootstrap.min.css set `[hidden] { display: none !important; }` so we also need the `!important` here to be able to override the default hidden behavior on the sphinx rendered scikit-learn.org. See: https://github.com/scikit-learn/scikit-learn/issues/21755 */display: inline-block !important;position: relative;}#sk-container-id-2 div.sk-text-repr-fallback {display: none;}</style><div id=\"sk-container-id-2\" class=\"sk-top-container\"><div class=\"sk-text-repr-fallback\"><pre>LatentDirichletAllocation(random_state=34)</pre><b>In a Jupyter environment, please rerun this cell to show the HTML representation or trust the notebook. <br />On GitHub, the HTML representation is unable to render, please try loading this page with nbviewer.org.</b></div><div class=\"sk-container\" hidden><div class=\"sk-item\"><div class=\"sk-estimator sk-toggleable\"><input class=\"sk-toggleable__control sk-hidden--visually\" id=\"sk-estimator-id-2\" type=\"checkbox\" checked><label for=\"sk-estimator-id-2\" class=\"sk-toggleable__label sk-toggleable__label-arrow\">LatentDirichletAllocation</label><div class=\"sk-toggleable__content\"><pre>LatentDirichletAllocation(random_state=34)</pre></div></div></div></div></div>"
      ],
      "text/plain": [
       "LatentDirichletAllocation(random_state=34)"
      ]
     },
     "execution_count": 20,
     "metadata": {},
     "output_type": "execute_result"
    }
   ],
   "source": [
    "number_of_topics = 10\n",
    "\n",
    "Ldamodel = LatentDirichletAllocation(n_components=number_of_topics, random_state=34)\n",
    "\n",
    "Ldamodel.fit(tf)"
   ]
  },
  {
   "cell_type": "code",
   "execution_count": 21,
   "id": "45fae832",
   "metadata": {},
   "outputs": [],
   "source": [
    "def display_topics(Ldamodel, feature_names, no_top_words):\n",
    "    topic_dict = {}\n",
    "    for topic_idx, topic in enumerate(Ldamodel.components_):\n",
    "        topic_dict[\"Topic %d words\" % (topic_idx)]= ['{}'.format(feature_names[i])\n",
    "                        for i in topic.argsort()[:-no_top_words - 1:-1]]\n",
    "        topic_dict[\"Topic %d weights\" % (topic_idx)]= ['{:.1f}'.format(topic[i])\n",
    "                        for i in topic.argsort()[:-no_top_words - 1:-1]]\n",
    "    return pd.DataFrame(topic_dict)"
   ]
  },
  {
   "cell_type": "markdown",
   "id": "f582847c",
   "metadata": {},
   "source": [
    "#### LDA Topics\n",
    "Using ldamodel, find a list of the 10 topics and the most significant 10 words in each topic. This should be structured as a list of 10 tuples."
   ]
  },
  {
   "cell_type": "code",
   "execution_count": 22,
   "id": "5c7b873f",
   "metadata": {},
   "outputs": [
    {
     "data": {
      "text/html": [
       "<div>\n",
       "<style scoped>\n",
       "    .dataframe tbody tr th:only-of-type {\n",
       "        vertical-align: middle;\n",
       "    }\n",
       "\n",
       "    .dataframe tbody tr th {\n",
       "        vertical-align: top;\n",
       "    }\n",
       "\n",
       "    .dataframe thead th {\n",
       "        text-align: right;\n",
       "    }\n",
       "</style>\n",
       "<table border=\"1\" class=\"dataframe\">\n",
       "  <thead>\n",
       "    <tr style=\"text-align: right;\">\n",
       "      <th></th>\n",
       "      <th>Topic 0 words</th>\n",
       "      <th>Topic 0 weights</th>\n",
       "      <th>Topic 1 words</th>\n",
       "      <th>Topic 1 weights</th>\n",
       "      <th>Topic 2 words</th>\n",
       "      <th>Topic 2 weights</th>\n",
       "      <th>Topic 3 words</th>\n",
       "      <th>Topic 3 weights</th>\n",
       "      <th>Topic 4 words</th>\n",
       "      <th>Topic 4 weights</th>\n",
       "      <th>Topic 5 words</th>\n",
       "      <th>Topic 5 weights</th>\n",
       "      <th>Topic 6 words</th>\n",
       "      <th>Topic 6 weights</th>\n",
       "      <th>Topic 7 words</th>\n",
       "      <th>Topic 7 weights</th>\n",
       "      <th>Topic 8 words</th>\n",
       "      <th>Topic 8 weights</th>\n",
       "      <th>Topic 9 words</th>\n",
       "      <th>Topic 9 weights</th>\n",
       "    </tr>\n",
       "  </thead>\n",
       "  <tbody>\n",
       "    <tr>\n",
       "      <th>0</th>\n",
       "      <td>company</td>\n",
       "      <td>1304.1</td>\n",
       "      <td>eu</td>\n",
       "      <td>1980.1</td>\n",
       "      <td>beij</td>\n",
       "      <td>2103.0</td>\n",
       "      <td>democrat</td>\n",
       "      <td>4094.9</td>\n",
       "      <td>court</td>\n",
       "      <td>2887.3</td>\n",
       "      <td>stock</td>\n",
       "      <td>4017.2</td>\n",
       "      <td>vaccin</td>\n",
       "      <td>3919.5</td>\n",
       "      <td>manufactur</td>\n",
       "      <td>2138.7</td>\n",
       "      <td>russia</td>\n",
       "      <td>5430.5</td>\n",
       "      <td>life</td>\n",
       "      <td>1591.2</td>\n",
       "    </tr>\n",
       "    <tr>\n",
       "      <th>1</th>\n",
       "      <td>tech</td>\n",
       "      <td>1157.7</td>\n",
       "      <td>north</td>\n",
       "      <td>1960.9</td>\n",
       "      <td>huawei</td>\n",
       "      <td>1821.1</td>\n",
       "      <td>republican</td>\n",
       "      <td>2987.0</td>\n",
       "      <td>school</td>\n",
       "      <td>1910.8</td>\n",
       "      <td>fed</td>\n",
       "      <td>2725.2</td>\n",
       "      <td>covid</td>\n",
       "      <td>3356.7</td>\n",
       "      <td>car</td>\n",
       "      <td>1924.4</td>\n",
       "      <td>oil</td>\n",
       "      <td>4879.3</td>\n",
       "      <td>book</td>\n",
       "      <td>1317.9</td>\n",
       "    </tr>\n",
       "    <tr>\n",
       "      <th>2</th>\n",
       "      <td>appl</td>\n",
       "      <td>1145.8</td>\n",
       "      <td>steel</td>\n",
       "      <td>1782.6</td>\n",
       "      <td>xi</td>\n",
       "      <td>1729.9</td>\n",
       "      <td>vote</td>\n",
       "      <td>2378.0</td>\n",
       "      <td>justic</td>\n",
       "      <td>1605.0</td>\n",
       "      <td>dollar</td>\n",
       "      <td>2621.7</td>\n",
       "      <td>health</td>\n",
       "      <td>2508.7</td>\n",
       "      <td>maker</td>\n",
       "      <td>1509.9</td>\n",
       "      <td>russian</td>\n",
       "      <td>4000.6</td>\n",
       "      <td>says</td>\n",
       "      <td>1200.2</td>\n",
       "    </tr>\n",
       "    <tr>\n",
       "      <th>3</th>\n",
       "      <td>employe</td>\n",
       "      <td>1141.4</td>\n",
       "      <td>mexico</td>\n",
       "      <td>1601.9</td>\n",
       "      <td>beijing</td>\n",
       "      <td>1190.6</td>\n",
       "      <td>elect</td>\n",
       "      <td>2318.3</td>\n",
       "      <td>student</td>\n",
       "      <td>1273.9</td>\n",
       "      <td>inflat</td>\n",
       "      <td>2125.4</td>\n",
       "      <td>test</td>\n",
       "      <td>1570.6</td>\n",
       "      <td>sale</td>\n",
       "      <td>1371.2</td>\n",
       "      <td>energi</td>\n",
       "      <td>2059.0</td>\n",
       "      <td>live</td>\n",
       "      <td>1146.3</td>\n",
       "    </tr>\n",
       "    <tr>\n",
       "      <th>4</th>\n",
       "      <td>job</td>\n",
       "      <td>1108.3</td>\n",
       "      <td>negoti</td>\n",
       "      <td>1596.1</td>\n",
       "      <td>iran</td>\n",
       "      <td>1187.8</td>\n",
       "      <td>tax</td>\n",
       "      <td>2234.7</td>\n",
       "      <td>rule</td>\n",
       "      <td>1132.5</td>\n",
       "      <td>index</td>\n",
       "      <td>2108.9</td>\n",
       "      <td>dr</td>\n",
       "      <td>1093.4</td>\n",
       "      <td>plant</td>\n",
       "      <td>1340.9</td>\n",
       "      <td>ukrain</td>\n",
       "      <td>1983.0</td>\n",
       "      <td>old</td>\n",
       "      <td>1135.6</td>\n",
       "    </tr>\n",
       "    <tr>\n",
       "      <th>5</th>\n",
       "      <td>app</td>\n",
       "      <td>1005.1</td>\n",
       "      <td>agreement</td>\n",
       "      <td>1548.0</td>\n",
       "      <td>india</td>\n",
       "      <td>1167.3</td>\n",
       "      <td>senat</td>\n",
       "      <td>1940.8</td>\n",
       "      <td>judg</td>\n",
       "      <td>996.1</td>\n",
       "      <td>rose</td>\n",
       "      <td>1862.0</td>\n",
       "      <td>viru</td>\n",
       "      <td>960.2</td>\n",
       "      <td>electr</td>\n",
       "      <td>1187.8</td>\n",
       "      <td>ga</td>\n",
       "      <td>1940.7</td>\n",
       "      <td>play</td>\n",
       "      <td>1083.3</td>\n",
       "    </tr>\n",
       "    <tr>\n",
       "      <th>6</th>\n",
       "      <td>pay</td>\n",
       "      <td>1000.6</td>\n",
       "      <td>korea</td>\n",
       "      <td>1441.5</td>\n",
       "      <td>hong</td>\n",
       "      <td>1134.2</td>\n",
       "      <td>congress</td>\n",
       "      <td>1372.2</td>\n",
       "      <td>board</td>\n",
       "      <td>964.5</td>\n",
       "      <td>fell</td>\n",
       "      <td>1857.4</td>\n",
       "      <td>drug</td>\n",
       "      <td>886.6</td>\n",
       "      <td>auto</td>\n",
       "      <td>1164.0</td>\n",
       "      <td>ukraine</td>\n",
       "      <td>1849.1</td>\n",
       "      <td>feel</td>\n",
       "      <td>901.8</td>\n",
       "    </tr>\n",
       "    <tr>\n",
       "      <th>7</th>\n",
       "      <td>worker</td>\n",
       "      <td>995.0</td>\n",
       "      <td>canada</td>\n",
       "      <td>1217.5</td>\n",
       "      <td>militari</td>\n",
       "      <td>1127.4</td>\n",
       "      <td>parti</td>\n",
       "      <td>1255.3</td>\n",
       "      <td>investig</td>\n",
       "      <td>883.0</td>\n",
       "      <td>quarter</td>\n",
       "      <td>1824.1</td>\n",
       "      <td>dose</td>\n",
       "      <td>872.4</td>\n",
       "      <td>vehicl</td>\n",
       "      <td>1101.1</td>\n",
       "      <td>putin</td>\n",
       "      <td>1500.0</td>\n",
       "      <td>art</td>\n",
       "      <td>835.5</td>\n",
       "    </tr>\n",
       "    <tr>\n",
       "      <th>8</th>\n",
       "      <td>amazon</td>\n",
       "      <td>987.9</td>\n",
       "      <td>tariffs</td>\n",
       "      <td>1191.1</td>\n",
       "      <td>kong</td>\n",
       "      <td>1102.1</td>\n",
       "      <td>sen</td>\n",
       "      <td>1215.6</td>\n",
       "      <td>legal</td>\n",
       "      <td>812.9</td>\n",
       "      <td>economist</td>\n",
       "      <td>1810.4</td>\n",
       "      <td>hospit</td>\n",
       "      <td>810.9</td>\n",
       "      <td>factori</td>\n",
       "      <td>1076.2</td>\n",
       "      <td>ukrainian</td>\n",
       "      <td>1442.1</td>\n",
       "      <td>famili</td>\n",
       "      <td>834.2</td>\n",
       "    </tr>\n",
       "    <tr>\n",
       "      <th>9</th>\n",
       "      <td>servic</td>\n",
       "      <td>957.1</td>\n",
       "      <td>impos</td>\n",
       "      <td>1187.2</td>\n",
       "      <td>taiwan</td>\n",
       "      <td>844.3</td>\n",
       "      <td>voter</td>\n",
       "      <td>1169.6</td>\n",
       "      <td>depart</td>\n",
       "      <td>788.0</td>\n",
       "      <td>central</td>\n",
       "      <td>1806.2</td>\n",
       "      <td>coronaviru</td>\n",
       "      <td>798.1</td>\n",
       "      <td>ship</td>\n",
       "      <td>1000.7</td>\n",
       "      <td>sanction</td>\n",
       "      <td>1434.5</td>\n",
       "      <td>thought</td>\n",
       "      <td>794.4</td>\n",
       "    </tr>\n",
       "  </tbody>\n",
       "</table>\n",
       "</div>"
      ],
      "text/plain": [
       "  Topic 0 words Topic 0 weights Topic 1 words Topic 1 weights Topic 2 words  \\\n",
       "0       company          1304.1            eu          1980.1          beij   \n",
       "1          tech          1157.7         north          1960.9        huawei   \n",
       "2          appl          1145.8         steel          1782.6            xi   \n",
       "3       employe          1141.4        mexico          1601.9       beijing   \n",
       "4           job          1108.3        negoti          1596.1          iran   \n",
       "5           app          1005.1     agreement          1548.0         india   \n",
       "6           pay          1000.6         korea          1441.5          hong   \n",
       "7        worker           995.0        canada          1217.5      militari   \n",
       "8        amazon           987.9       tariffs          1191.1          kong   \n",
       "9        servic           957.1         impos          1187.2        taiwan   \n",
       "\n",
       "  Topic 2 weights Topic 3 words Topic 3 weights Topic 4 words Topic 4 weights  \\\n",
       "0          2103.0      democrat          4094.9         court          2887.3   \n",
       "1          1821.1    republican          2987.0        school          1910.8   \n",
       "2          1729.9          vote          2378.0        justic          1605.0   \n",
       "3          1190.6         elect          2318.3       student          1273.9   \n",
       "4          1187.8           tax          2234.7          rule          1132.5   \n",
       "5          1167.3         senat          1940.8          judg           996.1   \n",
       "6          1134.2      congress          1372.2         board           964.5   \n",
       "7          1127.4         parti          1255.3      investig           883.0   \n",
       "8          1102.1           sen          1215.6         legal           812.9   \n",
       "9           844.3         voter          1169.6        depart           788.0   \n",
       "\n",
       "  Topic 5 words Topic 5 weights Topic 6 words Topic 6 weights Topic 7 words  \\\n",
       "0         stock          4017.2        vaccin          3919.5    manufactur   \n",
       "1           fed          2725.2         covid          3356.7           car   \n",
       "2        dollar          2621.7        health          2508.7         maker   \n",
       "3        inflat          2125.4          test          1570.6          sale   \n",
       "4         index          2108.9            dr          1093.4         plant   \n",
       "5          rose          1862.0          viru           960.2        electr   \n",
       "6          fell          1857.4          drug           886.6          auto   \n",
       "7       quarter          1824.1          dose           872.4        vehicl   \n",
       "8     economist          1810.4        hospit           810.9       factori   \n",
       "9       central          1806.2    coronaviru           798.1          ship   \n",
       "\n",
       "  Topic 7 weights Topic 8 words Topic 8 weights Topic 9 words Topic 9 weights  \n",
       "0          2138.7        russia          5430.5          life          1591.2  \n",
       "1          1924.4           oil          4879.3          book          1317.9  \n",
       "2          1509.9       russian          4000.6          says          1200.2  \n",
       "3          1371.2        energi          2059.0          live          1146.3  \n",
       "4          1340.9        ukrain          1983.0           old          1135.6  \n",
       "5          1187.8            ga          1940.7          play          1083.3  \n",
       "6          1164.0       ukraine          1849.1          feel           901.8  \n",
       "7          1101.1         putin          1500.0           art           835.5  \n",
       "8          1076.2     ukrainian          1442.1        famili           834.2  \n",
       "9          1000.7      sanction          1434.5       thought           794.4  "
      ]
     },
     "execution_count": 22,
     "metadata": {},
     "output_type": "execute_result"
    }
   ],
   "source": [
    "no_top_words = 10\n",
    "df_topics2 = display_topics(Ldamodel, tf_feature_names, no_top_words)\n",
    "df_topics2"
   ]
  },
  {
   "cell_type": "markdown",
   "id": "15824816",
   "metadata": {},
   "source": [
    "#### Topic Names\n",
    "From the list of the following given topics, assign topic names to the topics you found. If none of these names best matches the topics you found, create a new 1-3 word \"title\" for the topic."
   ]
  },
  {
   "cell_type": "code",
   "execution_count": 23,
   "id": "fbe2ad87",
   "metadata": {},
   "outputs": [],
   "source": [
    "df_topics2 = df_topics2.rename(columns = {'Topic 0 words': 'Topic 1 Tech Company', \n",
    "                                       'Topic 1 words': 'Topic 2 Global Trade', \n",
    "                                       'Topic 2 words': 'Topic 3 International Relations',\n",
    "                                       'Topic 3 words': 'Topic 4 Politics & Election',\n",
    "                                       'Topic 4 words': 'Topic 5 School & College',\n",
    "                                       'Topic 5 words': 'Topic 6 Stock & Inflation',\n",
    "                                       'Topic 6 words': 'Topic 7 Covid & Vaccine',\n",
    "                                       'Topic 7 words': 'Topic 8 Russia & Ukraine',\n",
    "                                       'Topic 8 words': 'Topic 9 Manufacture',\n",
    "                                       'Topic 9 words': 'Topic 10 Life & Family'\n",
    "                                       })\n",
    "df_topics2 = df_topics2.drop(columns = ['Topic 0 weights', 'Topic 1 weights', 'Topic 2 weights',\n",
    "                                      'Topic 3 weights', 'Topic 4 weights', 'Topic 5 weights',\n",
    "                                      'Topic 6 weights', 'Topic 7 weights', 'Topic 8 weights',\n",
    "                                      'Topic 9 weights'], axis = 1)"
   ]
  },
  {
   "cell_type": "code",
   "execution_count": 24,
   "id": "527f2efb",
   "metadata": {
    "scrolled": true
   },
   "outputs": [
    {
     "data": {
      "text/html": [
       "<div>\n",
       "<style scoped>\n",
       "    .dataframe tbody tr th:only-of-type {\n",
       "        vertical-align: middle;\n",
       "    }\n",
       "\n",
       "    .dataframe tbody tr th {\n",
       "        vertical-align: top;\n",
       "    }\n",
       "\n",
       "    .dataframe thead th {\n",
       "        text-align: right;\n",
       "    }\n",
       "</style>\n",
       "<table border=\"1\" class=\"dataframe\">\n",
       "  <thead>\n",
       "    <tr style=\"text-align: right;\">\n",
       "      <th></th>\n",
       "      <th>Topic 1 Tech Company</th>\n",
       "      <th>Topic 2 Global Trade</th>\n",
       "      <th>Topic 3 International Relations</th>\n",
       "      <th>Topic 4 Politics &amp; Election</th>\n",
       "      <th>Topic 5 School &amp; College</th>\n",
       "      <th>Topic 6 Stock &amp; Inflation</th>\n",
       "      <th>Topic 7 Covid &amp; Vaccine</th>\n",
       "      <th>Topic 8 Russia &amp; Ukraine</th>\n",
       "      <th>Topic 9 Manufacture</th>\n",
       "      <th>Topic 10 Life &amp; Family</th>\n",
       "    </tr>\n",
       "  </thead>\n",
       "  <tbody>\n",
       "    <tr>\n",
       "      <th>0</th>\n",
       "      <td>company</td>\n",
       "      <td>eu</td>\n",
       "      <td>beij</td>\n",
       "      <td>democrat</td>\n",
       "      <td>court</td>\n",
       "      <td>stock</td>\n",
       "      <td>vaccin</td>\n",
       "      <td>manufactur</td>\n",
       "      <td>russia</td>\n",
       "      <td>life</td>\n",
       "    </tr>\n",
       "    <tr>\n",
       "      <th>1</th>\n",
       "      <td>tech</td>\n",
       "      <td>north</td>\n",
       "      <td>huawei</td>\n",
       "      <td>republican</td>\n",
       "      <td>school</td>\n",
       "      <td>fed</td>\n",
       "      <td>covid</td>\n",
       "      <td>car</td>\n",
       "      <td>oil</td>\n",
       "      <td>book</td>\n",
       "    </tr>\n",
       "    <tr>\n",
       "      <th>2</th>\n",
       "      <td>appl</td>\n",
       "      <td>steel</td>\n",
       "      <td>xi</td>\n",
       "      <td>vote</td>\n",
       "      <td>justic</td>\n",
       "      <td>dollar</td>\n",
       "      <td>health</td>\n",
       "      <td>maker</td>\n",
       "      <td>russian</td>\n",
       "      <td>says</td>\n",
       "    </tr>\n",
       "    <tr>\n",
       "      <th>3</th>\n",
       "      <td>employe</td>\n",
       "      <td>mexico</td>\n",
       "      <td>beijing</td>\n",
       "      <td>elect</td>\n",
       "      <td>student</td>\n",
       "      <td>inflat</td>\n",
       "      <td>test</td>\n",
       "      <td>sale</td>\n",
       "      <td>energi</td>\n",
       "      <td>live</td>\n",
       "    </tr>\n",
       "    <tr>\n",
       "      <th>4</th>\n",
       "      <td>job</td>\n",
       "      <td>negoti</td>\n",
       "      <td>iran</td>\n",
       "      <td>tax</td>\n",
       "      <td>rule</td>\n",
       "      <td>index</td>\n",
       "      <td>dr</td>\n",
       "      <td>plant</td>\n",
       "      <td>ukrain</td>\n",
       "      <td>old</td>\n",
       "    </tr>\n",
       "    <tr>\n",
       "      <th>5</th>\n",
       "      <td>app</td>\n",
       "      <td>agreement</td>\n",
       "      <td>india</td>\n",
       "      <td>senat</td>\n",
       "      <td>judg</td>\n",
       "      <td>rose</td>\n",
       "      <td>viru</td>\n",
       "      <td>electr</td>\n",
       "      <td>ga</td>\n",
       "      <td>play</td>\n",
       "    </tr>\n",
       "    <tr>\n",
       "      <th>6</th>\n",
       "      <td>pay</td>\n",
       "      <td>korea</td>\n",
       "      <td>hong</td>\n",
       "      <td>congress</td>\n",
       "      <td>board</td>\n",
       "      <td>fell</td>\n",
       "      <td>drug</td>\n",
       "      <td>auto</td>\n",
       "      <td>ukraine</td>\n",
       "      <td>feel</td>\n",
       "    </tr>\n",
       "    <tr>\n",
       "      <th>7</th>\n",
       "      <td>worker</td>\n",
       "      <td>canada</td>\n",
       "      <td>militari</td>\n",
       "      <td>parti</td>\n",
       "      <td>investig</td>\n",
       "      <td>quarter</td>\n",
       "      <td>dose</td>\n",
       "      <td>vehicl</td>\n",
       "      <td>putin</td>\n",
       "      <td>art</td>\n",
       "    </tr>\n",
       "    <tr>\n",
       "      <th>8</th>\n",
       "      <td>amazon</td>\n",
       "      <td>tariffs</td>\n",
       "      <td>kong</td>\n",
       "      <td>sen</td>\n",
       "      <td>legal</td>\n",
       "      <td>economist</td>\n",
       "      <td>hospit</td>\n",
       "      <td>factori</td>\n",
       "      <td>ukrainian</td>\n",
       "      <td>famili</td>\n",
       "    </tr>\n",
       "    <tr>\n",
       "      <th>9</th>\n",
       "      <td>servic</td>\n",
       "      <td>impos</td>\n",
       "      <td>taiwan</td>\n",
       "      <td>voter</td>\n",
       "      <td>depart</td>\n",
       "      <td>central</td>\n",
       "      <td>coronaviru</td>\n",
       "      <td>ship</td>\n",
       "      <td>sanction</td>\n",
       "      <td>thought</td>\n",
       "    </tr>\n",
       "  </tbody>\n",
       "</table>\n",
       "</div>"
      ],
      "text/plain": [
       "  Topic 1 Tech Company Topic 2 Global Trade Topic 3 International Relations  \\\n",
       "0              company                   eu                            beij   \n",
       "1                 tech                north                          huawei   \n",
       "2                 appl                steel                              xi   \n",
       "3              employe               mexico                         beijing   \n",
       "4                  job               negoti                            iran   \n",
       "5                  app            agreement                           india   \n",
       "6                  pay                korea                            hong   \n",
       "7               worker               canada                        militari   \n",
       "8               amazon              tariffs                            kong   \n",
       "9               servic                impos                          taiwan   \n",
       "\n",
       "  Topic 4 Politics & Election Topic 5 School & College  \\\n",
       "0                    democrat                    court   \n",
       "1                  republican                   school   \n",
       "2                        vote                   justic   \n",
       "3                       elect                  student   \n",
       "4                         tax                     rule   \n",
       "5                       senat                     judg   \n",
       "6                    congress                    board   \n",
       "7                       parti                 investig   \n",
       "8                         sen                    legal   \n",
       "9                       voter                   depart   \n",
       "\n",
       "  Topic 6 Stock & Inflation Topic 7 Covid & Vaccine Topic 8 Russia & Ukraine  \\\n",
       "0                     stock                  vaccin               manufactur   \n",
       "1                       fed                   covid                      car   \n",
       "2                    dollar                  health                    maker   \n",
       "3                    inflat                    test                     sale   \n",
       "4                     index                      dr                    plant   \n",
       "5                      rose                    viru                   electr   \n",
       "6                      fell                    drug                     auto   \n",
       "7                   quarter                    dose                   vehicl   \n",
       "8                 economist                  hospit                  factori   \n",
       "9                   central              coronaviru                     ship   \n",
       "\n",
       "  Topic 9 Manufacture Topic 10 Life & Family  \n",
       "0              russia                   life  \n",
       "1                 oil                   book  \n",
       "2             russian                   says  \n",
       "3              energi                   live  \n",
       "4              ukrain                    old  \n",
       "5                  ga                   play  \n",
       "6             ukraine                   feel  \n",
       "7               putin                    art  \n",
       "8           ukrainian                 famili  \n",
       "9            sanction                thought  "
      ]
     },
     "execution_count": 24,
     "metadata": {},
     "output_type": "execute_result"
    }
   ],
   "source": [
    "df_topics2.to_csv('News_Title_Topics2.csv')\n",
    "df_topics2"
   ]
  },
  {
   "cell_type": "markdown",
   "id": "ec7da032",
   "metadata": {},
   "source": [
    "## Sentiment Analysis"
   ]
  },
  {
   "cell_type": "code",
   "execution_count": 25,
   "id": "9baa0212",
   "metadata": {},
   "outputs": [],
   "source": [
    "#generating the VADER sentiment scores\n",
    "sid = SentimentIntensityAnalyzer()\n",
    "df1['Newspaper_Sentiment_VADER'] = df1['NewsText'].apply(lambda x : sid.polarity_scores(x))\n",
    "#separating the VADER negativity, positivity, neutrality and compound scores in the full dataset\n",
    "df1['VADER_Newspaper_Negative'] = df1['Newspaper_Sentiment_VADER'].apply(lambda score_dict: score_dict['neg'])\n",
    "df1['VADER_Newspaper_Positive'] = df1['Newspaper_Sentiment_VADER'].apply(lambda score_dict: score_dict['pos'])\n",
    "df1['VADER_Newspaper_Neutral'] = df1['Newspaper_Sentiment_VADER'].apply(lambda score_dict: score_dict['neu'])\n",
    "df1['VADER_Newspaper_Compound'] = df1['Newspaper_Sentiment_VADER'].apply(lambda score_dict: score_dict['compound'])\n",
    "\n",
    "#generating the TextBlob scores\n",
    "df1['TextBlob_Newspaper_Sentiment'] = df1['NewsText'].apply(lambda x: TextBlob(x).sentiment)\n",
    "#separating the two TextBlob polarity and subjectivity scores for Paragraph and Headline \n",
    "df1['TextBlob_Newspaper_Sentiment_Polarity'], df1['TextBlob_Newspaper_Sentiment_Subjectivity'] = df1.TextBlob_Newspaper_Sentiment.str"
   ]
  },
  {
   "cell_type": "code",
   "execution_count": 26,
   "id": "1a34c8a0",
   "metadata": {
    "scrolled": true
   },
   "outputs": [
    {
     "data": {
      "text/html": [
       "<div>\n",
       "<style scoped>\n",
       "    .dataframe tbody tr th:only-of-type {\n",
       "        vertical-align: middle;\n",
       "    }\n",
       "\n",
       "    .dataframe tbody tr th {\n",
       "        vertical-align: top;\n",
       "    }\n",
       "\n",
       "    .dataframe thead th {\n",
       "        text-align: right;\n",
       "    }\n",
       "</style>\n",
       "<table border=\"1\" class=\"dataframe\">\n",
       "  <thead>\n",
       "    <tr style=\"text-align: right;\">\n",
       "      <th></th>\n",
       "      <th>NewsTitle</th>\n",
       "      <th>Date</th>\n",
       "      <th>NewsText</th>\n",
       "      <th>VADER_Newspaper_Negative</th>\n",
       "      <th>VADER_Newspaper_Positive</th>\n",
       "      <th>VADER_Newspaper_Neutral</th>\n",
       "      <th>VADER_Newspaper_Compound</th>\n",
       "      <th>TextBlob_Newspaper_Sentiment_Polarity</th>\n",
       "      <th>TextBlob_Newspaper_Sentiment_Subjectivity</th>\n",
       "    </tr>\n",
       "  </thead>\n",
       "  <tbody>\n",
       "    <tr>\n",
       "      <th>0</th>\n",
       "      <td>Free Trade Has Been a Boon for Energy Independ...</td>\n",
       "      <td>2018-01-01</td>\n",
       "      <td>turbul donald trump' polit career thu far, alw...</td>\n",
       "      <td>0.074</td>\n",
       "      <td>0.136</td>\n",
       "      <td>0.790</td>\n",
       "      <td>0.9790</td>\n",
       "      <td>-0.003281</td>\n",
       "      <td>0.471559</td>\n",
       "    </tr>\n",
       "    <tr>\n",
       "      <th>1</th>\n",
       "      <td>France Looks to Deepen Trade Ties With Russia ...</td>\n",
       "      <td>2018-01-01</td>\n",
       "      <td>franc lose appetit trans-atlant trade.\\neconom...</td>\n",
       "      <td>0.085</td>\n",
       "      <td>0.029</td>\n",
       "      <td>0.886</td>\n",
       "      <td>-0.9776</td>\n",
       "      <td>-0.031790</td>\n",
       "      <td>0.374383</td>\n",
       "    </tr>\n",
       "    <tr>\n",
       "      <th>2</th>\n",
       "      <td>A Cold War in the Arctic Circle; NATO plans a ...</td>\n",
       "      <td>2018-01-01</td>\n",
       "      <td>arctic region tremend strateg import global tr...</td>\n",
       "      <td>0.037</td>\n",
       "      <td>0.112</td>\n",
       "      <td>0.851</td>\n",
       "      <td>0.9756</td>\n",
       "      <td>0.080676</td>\n",
       "      <td>0.319451</td>\n",
       "    </tr>\n",
       "    <tr>\n",
       "      <th>3</th>\n",
       "      <td>World News: France Pursues Wider Trade Relatio...</td>\n",
       "      <td>2018-01-02</td>\n",
       "      <td>franc lose appetit trans-atlant trade.\\neconom...</td>\n",
       "      <td>0.056</td>\n",
       "      <td>0.000</td>\n",
       "      <td>0.944</td>\n",
       "      <td>-0.9260</td>\n",
       "      <td>-0.017857</td>\n",
       "      <td>0.351190</td>\n",
       "    </tr>\n",
       "    <tr>\n",
       "      <th>4</th>\n",
       "      <td>Free Trade Has Been a Boon for Energy Independ...</td>\n",
       "      <td>2018-01-02</td>\n",
       "      <td>turbul donald trump' polit career thu far, alw...</td>\n",
       "      <td>0.073</td>\n",
       "      <td>0.136</td>\n",
       "      <td>0.791</td>\n",
       "      <td>0.9790</td>\n",
       "      <td>0.002749</td>\n",
       "      <td>0.472236</td>\n",
       "    </tr>\n",
       "    <tr>\n",
       "      <th>...</th>\n",
       "      <td>...</td>\n",
       "      <td>...</td>\n",
       "      <td>...</td>\n",
       "      <td>...</td>\n",
       "      <td>...</td>\n",
       "      <td>...</td>\n",
       "      <td>...</td>\n",
       "      <td>...</td>\n",
       "      <td>...</td>\n",
       "    </tr>\n",
       "    <tr>\n",
       "      <th>7640</th>\n",
       "      <td>NaN</td>\n",
       "      <td>2022-10-25</td>\n",
       "      <td>earli day parenthood, infant daughter colicki ...</td>\n",
       "      <td>0.030</td>\n",
       "      <td>0.161</td>\n",
       "      <td>0.809</td>\n",
       "      <td>0.9892</td>\n",
       "      <td>0.194824</td>\n",
       "      <td>0.449275</td>\n",
       "    </tr>\n",
       "    <tr>\n",
       "      <th>7641</th>\n",
       "      <td>NaN</td>\n",
       "      <td>2022-10-25</td>\n",
       "      <td>rishi sunak prime minister. india britain. str...</td>\n",
       "      <td>0.046</td>\n",
       "      <td>0.119</td>\n",
       "      <td>0.835</td>\n",
       "      <td>0.9702</td>\n",
       "      <td>0.067041</td>\n",
       "      <td>0.186123</td>\n",
       "    </tr>\n",
       "    <tr>\n",
       "      <th>7642</th>\n",
       "      <td>Hurricane Ian Claims Hit Profits of Chubb</td>\n",
       "      <td>2022-10-25</td>\n",
       "      <td>chubb ltd. cb -.%\\ndecrease; red point triangl...</td>\n",
       "      <td>0.034</td>\n",
       "      <td>0.076</td>\n",
       "      <td>0.889</td>\n",
       "      <td>0.9201</td>\n",
       "      <td>0.041249</td>\n",
       "      <td>0.417118</td>\n",
       "    </tr>\n",
       "    <tr>\n",
       "      <th>7643</th>\n",
       "      <td>Chip Maker SK Hynix Slashes Capital Spending</td>\n",
       "      <td>2022-10-25</td>\n",
       "      <td>seoul—sk hynix inc., one world’ biggest chip m...</td>\n",
       "      <td>0.048</td>\n",
       "      <td>0.076</td>\n",
       "      <td>0.876</td>\n",
       "      <td>0.9349</td>\n",
       "      <td>0.064406</td>\n",
       "      <td>0.450978</td>\n",
       "    </tr>\n",
       "    <tr>\n",
       "      <th>7644</th>\n",
       "      <td>Emperor Penguins to Be Listed as Threatened Sp...</td>\n",
       "      <td>2022-10-25</td>\n",
       "      <td>emperor penguin soon consid threaten speci end...</td>\n",
       "      <td>0.071</td>\n",
       "      <td>0.106</td>\n",
       "      <td>0.823</td>\n",
       "      <td>0.9283</td>\n",
       "      <td>0.090436</td>\n",
       "      <td>0.368750</td>\n",
       "    </tr>\n",
       "  </tbody>\n",
       "</table>\n",
       "<p>7645 rows × 9 columns</p>\n",
       "</div>"
      ],
      "text/plain": [
       "                                              NewsTitle       Date  \\\n",
       "0     Free Trade Has Been a Boon for Energy Independ... 2018-01-01   \n",
       "1     France Looks to Deepen Trade Ties With Russia ... 2018-01-01   \n",
       "2     A Cold War in the Arctic Circle; NATO plans a ... 2018-01-01   \n",
       "3     World News: France Pursues Wider Trade Relatio... 2018-01-02   \n",
       "4     Free Trade Has Been a Boon for Energy Independ... 2018-01-02   \n",
       "...                                                 ...        ...   \n",
       "7640                                                NaN 2022-10-25   \n",
       "7641                                                NaN 2022-10-25   \n",
       "7642          Hurricane Ian Claims Hit Profits of Chubb 2022-10-25   \n",
       "7643       Chip Maker SK Hynix Slashes Capital Spending 2022-10-25   \n",
       "7644  Emperor Penguins to Be Listed as Threatened Sp... 2022-10-25   \n",
       "\n",
       "                                               NewsText  \\\n",
       "0     turbul donald trump' polit career thu far, alw...   \n",
       "1     franc lose appetit trans-atlant trade.\\neconom...   \n",
       "2     arctic region tremend strateg import global tr...   \n",
       "3     franc lose appetit trans-atlant trade.\\neconom...   \n",
       "4     turbul donald trump' polit career thu far, alw...   \n",
       "...                                                 ...   \n",
       "7640  earli day parenthood, infant daughter colicki ...   \n",
       "7641  rishi sunak prime minister. india britain. str...   \n",
       "7642  chubb ltd. cb -.%\\ndecrease; red point triangl...   \n",
       "7643  seoul—sk hynix inc., one world’ biggest chip m...   \n",
       "7644  emperor penguin soon consid threaten speci end...   \n",
       "\n",
       "      VADER_Newspaper_Negative  VADER_Newspaper_Positive  \\\n",
       "0                        0.074                     0.136   \n",
       "1                        0.085                     0.029   \n",
       "2                        0.037                     0.112   \n",
       "3                        0.056                     0.000   \n",
       "4                        0.073                     0.136   \n",
       "...                        ...                       ...   \n",
       "7640                     0.030                     0.161   \n",
       "7641                     0.046                     0.119   \n",
       "7642                     0.034                     0.076   \n",
       "7643                     0.048                     0.076   \n",
       "7644                     0.071                     0.106   \n",
       "\n",
       "      VADER_Newspaper_Neutral  VADER_Newspaper_Compound  \\\n",
       "0                       0.790                    0.9790   \n",
       "1                       0.886                   -0.9776   \n",
       "2                       0.851                    0.9756   \n",
       "3                       0.944                   -0.9260   \n",
       "4                       0.791                    0.9790   \n",
       "...                       ...                       ...   \n",
       "7640                    0.809                    0.9892   \n",
       "7641                    0.835                    0.9702   \n",
       "7642                    0.889                    0.9201   \n",
       "7643                    0.876                    0.9349   \n",
       "7644                    0.823                    0.9283   \n",
       "\n",
       "      TextBlob_Newspaper_Sentiment_Polarity  \\\n",
       "0                                 -0.003281   \n",
       "1                                 -0.031790   \n",
       "2                                  0.080676   \n",
       "3                                 -0.017857   \n",
       "4                                  0.002749   \n",
       "...                                     ...   \n",
       "7640                               0.194824   \n",
       "7641                               0.067041   \n",
       "7642                               0.041249   \n",
       "7643                               0.064406   \n",
       "7644                               0.090436   \n",
       "\n",
       "      TextBlob_Newspaper_Sentiment_Subjectivity  \n",
       "0                                      0.471559  \n",
       "1                                      0.374383  \n",
       "2                                      0.319451  \n",
       "3                                      0.351190  \n",
       "4                                      0.472236  \n",
       "...                                         ...  \n",
       "7640                                   0.449275  \n",
       "7641                                   0.186123  \n",
       "7642                                   0.417118  \n",
       "7643                                   0.450978  \n",
       "7644                                   0.368750  \n",
       "\n",
       "[7645 rows x 9 columns]"
      ]
     },
     "execution_count": 26,
     "metadata": {},
     "output_type": "execute_result"
    }
   ],
   "source": [
    "df1 = df1.drop(columns = ['Newspaper_Sentiment_VADER', 'TextBlob_Newspaper_Sentiment'])\n",
    "df1"
   ]
  },
  {
   "cell_type": "code",
   "execution_count": 27,
   "id": "f403e9ef",
   "metadata": {},
   "outputs": [],
   "source": [
    "df1['VADER_Newspaper_Positive_Sentiment'] = df1['VADER_Newspaper_Compound'].apply(lambda x: 1 if x > 0 else 0)\n",
    "df1['TextBlob_Newspaper_Positive_Sentiment'] = df1['TextBlob_Newspaper_Sentiment_Polarity'].apply(lambda x: 1 if x > 0 else 0)"
   ]
  },
  {
   "cell_type": "code",
   "execution_count": 28,
   "id": "89f371c4",
   "metadata": {},
   "outputs": [
    {
     "data": {
      "text/plain": [
       "count    7645.000000\n",
       "mean        0.074975\n",
       "std         0.039841\n",
       "min         0.000000\n",
       "25%         0.046000\n",
       "50%         0.070000\n",
       "75%         0.098000\n",
       "max         0.368000\n",
       "Name: VADER_Newspaper_Negative, dtype: float64"
      ]
     },
     "execution_count": 28,
     "metadata": {},
     "output_type": "execute_result"
    }
   ],
   "source": [
    "df1['VADER_Newspaper_Negative'].describe()"
   ]
  },
  {
   "cell_type": "code",
   "execution_count": 29,
   "id": "8cfd75df",
   "metadata": {},
   "outputs": [
    {
     "data": {
      "text/plain": [
       "count    7645.000000\n",
       "mean        0.306452\n",
       "std         0.828290\n",
       "min        -0.999800\n",
       "25%        -0.750600\n",
       "50%         0.877900\n",
       "75%         0.981800\n",
       "max         0.999900\n",
       "Name: VADER_Newspaper_Compound, dtype: float64"
      ]
     },
     "execution_count": 29,
     "metadata": {},
     "output_type": "execute_result"
    }
   ],
   "source": [
    "df1['VADER_Newspaper_Compound'].describe()"
   ]
  },
  {
   "cell_type": "code",
   "execution_count": 30,
   "id": "18db1449",
   "metadata": {},
   "outputs": [
    {
     "data": {
      "text/plain": [
       "count    7645.000000\n",
       "mean        0.060846\n",
       "std         0.071511\n",
       "min        -0.333333\n",
       "25%         0.018001\n",
       "50%         0.058219\n",
       "75%         0.100077\n",
       "max         0.645455\n",
       "Name: TextBlob_Newspaper_Sentiment_Polarity, dtype: float64"
      ]
     },
     "execution_count": 30,
     "metadata": {},
     "output_type": "execute_result"
    }
   ],
   "source": [
    "df1['TextBlob_Newspaper_Sentiment_Polarity'].describe()"
   ]
  },
  {
   "cell_type": "markdown",
   "id": "56e62e5e",
   "metadata": {},
   "source": [
    "### Plot the Sentiment Scores"
   ]
  },
  {
   "cell_type": "code",
   "execution_count": 31,
   "id": "21c660b5",
   "metadata": {},
   "outputs": [],
   "source": [
    "df1_2 = df1.copy()\n",
    "df1_2['Month'] = df1_2['Date'].dt.strftime('%Y-%m')"
   ]
  },
  {
   "cell_type": "code",
   "execution_count": 32,
   "id": "0e02b0c9",
   "metadata": {},
   "outputs": [
    {
     "name": "stdout",
     "output_type": "stream",
     "text": [
      "<class 'pandas.core.frame.DataFrame'>\n",
      "Index: 58 entries, 2018-01 to 2022-10\n",
      "Data columns (total 8 columns):\n",
      " #   Column                                     Non-Null Count  Dtype  \n",
      "---  ------                                     --------------  -----  \n",
      " 0   VADER_Newspaper_Negative                   58 non-null     float64\n",
      " 1   VADER_Newspaper_Positive                   58 non-null     float64\n",
      " 2   VADER_Newspaper_Neutral                    58 non-null     float64\n",
      " 3   VADER_Newspaper_Compound                   58 non-null     float64\n",
      " 4   TextBlob_Newspaper_Sentiment_Polarity      58 non-null     float64\n",
      " 5   TextBlob_Newspaper_Sentiment_Subjectivity  58 non-null     float64\n",
      " 6   VADER_Newspaper_Positive_Sentiment         58 non-null     float64\n",
      " 7   TextBlob_Newspaper_Positive_Sentiment      58 non-null     float64\n",
      "dtypes: float64(8)\n",
      "memory usage: 4.1+ KB\n"
     ]
    }
   ],
   "source": [
    "df1_3 = df1_2.groupby(['Month']).mean()\n",
    "df1_3.info()"
   ]
  },
  {
   "cell_type": "code",
   "execution_count": 33,
   "id": "5cb31919",
   "metadata": {},
   "outputs": [
    {
     "data": {
      "image/png": "[encoded data removed]",
      "text/plain": [
       "<Figure size 1008x1152 with 2 Axes>"
      ]
     },
     "metadata": {
      "needs_background": "light"
     },
     "output_type": "display_data"
    }
   ],
   "source": [
    "fig, axes = plt.subplots(ncols=1, nrows=2, figsize=(14, 16))\n",
    "\n",
    "sns.set_style(\"white\")\n",
    "plt.sca(axes[0])\n",
    "sns.lineplot(data=df1_3, x=\"Month\", y=\"VADER_Newspaper_Compound\")\n",
    "plt.xlabel('Month')\n",
    "plt.xticks(rotation = 90)\n",
    "plt.ylabel('Sentiment Score')\n",
    "plt.title('VADER Sentiment Analysis of Wall Street Journal Newspaper',  weight = 'bold', fontsize = 16)\n",
    "\n",
    "plt.sca(axes[1])\n",
    "sns.lineplot(data=df1_3, x=\"Month\", y=\"TextBlob_Newspaper_Sentiment_Polarity\")\n",
    "plt.xlabel('Month')\n",
    "plt.xticks(rotation = 90)\n",
    "plt.ylabel('Sentiment Score')\n",
    "plt.title('TextBlob Sentiment Analysis of Wall Street Journal Newspaper',  weight = 'bold', fontsize = 16)\n",
    "\n",
    "plt.savefig('Figure1.png')\n",
    "plt.show()"
   ]
  },
  {
   "cell_type": "code",
   "execution_count": 34,
   "id": "1e8d8af6",
   "metadata": {},
   "outputs": [],
   "source": [
    "freq = df1['VADER_Newspaper_Positive_Sentiment'].value_counts()"
   ]
  },
  {
   "cell_type": "code",
   "execution_count": 35,
   "id": "bd9eb2e4",
   "metadata": {},
   "outputs": [
    {
     "data": {
      "image/png": "[encoded data removed]",
      "text/plain": [
       "<Figure size 1224x720 with 2 Axes>"
      ]
     },
     "metadata": {},
     "output_type": "display_data"
    }
   ],
   "source": [
    "fig, axes = plt.subplots(ncols=2, nrows=1, figsize=(17, 10))\n",
    "\n",
    "# VADER Newspaper Sentiment\n",
    "freq = df1['VADER_Newspaper_Positive_Sentiment'].value_counts()\n",
    "labels = ('Positive', 'Negative')\n",
    "sizes = [freq[1], freq[0]]\n",
    "explode = (0.1, 0)\n",
    "plt.sca(axes[0])\n",
    "plt.pie(sizes, labels=labels, explode=explode, autopct='%1.1f%%', shadow=True, startangle=0)\n",
    "plt.title('VADER Newspaper Sentiment', weight='bold').set_fontsize('14')\n",
    "\n",
    "# TextBlob Newspaper Sentiment\n",
    "freq = df1['TextBlob_Newspaper_Positive_Sentiment'].value_counts()\n",
    "labels = ('Positive', 'Negative')\n",
    "sizes = [freq[1], freq[0]]\n",
    "explode = (0.1, 0)\n",
    "plt.sca(axes[1])\n",
    "plt.pie(sizes, labels=labels, explode=explode, autopct='%1.1f%%', shadow=True, startangle=0)\n",
    "plt.title('TextBlob Newspaper Sentiment', weight='bold').set_fontsize('14')\n",
    "\n",
    "plt.savefig('Figure2.png')\n",
    "\n",
    "plt.show()"
   ]
  },
  {
   "cell_type": "markdown",
   "id": "4fe8c303",
   "metadata": {},
   "source": [
    "**Based on the line plots and pie plots of the sentiments shown in Wall Street Journal news, we could detect the trends of sentiment score changes utilizing two types of lexicons -- VADER and TextBlob are consistent with each other. As for the proportion of negative words, the results are slightly different. Specifically, the proportion of negative text shown in Wall Street Journal news using VADER lexicon is 25.4% and 6.7% based on TextBlob lexicon.**"
   ]
  },
  {
   "cell_type": "markdown",
   "id": "2d6a3c5c",
   "metadata": {},
   "source": [
    "# Stock Data Analysis"
   ]
  },
  {
   "cell_type": "code",
   "execution_count": 36,
   "id": "81042dc9",
   "metadata": {},
   "outputs": [],
   "source": [
    "df2 = pd.read_csv('SP500.csv')"
   ]
  },
  {
   "cell_type": "code",
   "execution_count": 37,
   "id": "8f7c87f4",
   "metadata": {},
   "outputs": [],
   "source": [
    "df2_1 = df2.rename(columns = {'Index':'Date', 'GSPC.Adjusted': 'SP500_adj_price', 'GSPC.Volume': 'SP500_volume'})\n",
    "df2_1['Date'] = df2_1['Date'].astype('datetime64')"
   ]
  },
  {
   "cell_type": "code",
   "execution_count": 38,
   "id": "d2aa2494",
   "metadata": {},
   "outputs": [
    {
     "name": "stdout",
     "output_type": "stream",
     "text": [
      "<class 'pandas.core.frame.DataFrame'>\n",
      "RangeIndex: 1216 entries, 0 to 1215\n",
      "Data columns (total 3 columns):\n",
      " #   Column           Non-Null Count  Dtype         \n",
      "---  ------           --------------  -----         \n",
      " 0   Date             1216 non-null   datetime64[ns]\n",
      " 1   SP500_adj_price  1216 non-null   float64       \n",
      " 2   SP500_volume     1216 non-null   float64       \n",
      "dtypes: datetime64[ns](1), float64(2)\n",
      "memory usage: 28.6 KB\n"
     ]
    }
   ],
   "source": [
    "df2_1.info()"
   ]
  },
  {
   "cell_type": "code",
   "execution_count": 39,
   "id": "a93827e3",
   "metadata": {},
   "outputs": [
    {
     "data": {
      "text/plain": [
       "DatetimeIndex(['2018-01-01', '2018-01-02', '2018-01-03', '2018-01-04',\n",
       "               '2018-01-05', '2018-01-06', '2018-01-07', '2018-01-08',\n",
       "               '2018-01-09', '2018-01-10',\n",
       "               ...\n",
       "               '2022-10-22', '2022-10-23', '2022-10-24', '2022-10-25',\n",
       "               '2022-10-26', '2022-10-27', '2022-10-28', '2022-10-29',\n",
       "               '2022-10-30', '2022-10-31'],\n",
       "              dtype='datetime64[ns]', length=1765, freq='D')"
      ]
     },
     "execution_count": 39,
     "metadata": {},
     "output_type": "execute_result"
    }
   ],
   "source": [
    "start = datetime.strptime('01-01-2018', '%m-%d-%Y')\n",
    "date_generated = pd.date_range(start, periods = 1765)\n",
    "date_generated"
   ]
  },
  {
   "cell_type": "code",
   "execution_count": 40,
   "id": "72f2cee1",
   "metadata": {},
   "outputs": [
    {
     "data": {
      "text/html": [
       "<div>\n",
       "<style scoped>\n",
       "    .dataframe tbody tr th:only-of-type {\n",
       "        vertical-align: middle;\n",
       "    }\n",
       "\n",
       "    .dataframe tbody tr th {\n",
       "        vertical-align: top;\n",
       "    }\n",
       "\n",
       "    .dataframe thead th {\n",
       "        text-align: right;\n",
       "    }\n",
       "</style>\n",
       "<table border=\"1\" class=\"dataframe\">\n",
       "  <thead>\n",
       "    <tr style=\"text-align: right;\">\n",
       "      <th></th>\n",
       "      <th>Date</th>\n",
       "    </tr>\n",
       "  </thead>\n",
       "  <tbody>\n",
       "    <tr>\n",
       "      <th>0</th>\n",
       "      <td>2018-01-01</td>\n",
       "    </tr>\n",
       "    <tr>\n",
       "      <th>1</th>\n",
       "      <td>2018-01-02</td>\n",
       "    </tr>\n",
       "    <tr>\n",
       "      <th>2</th>\n",
       "      <td>2018-01-03</td>\n",
       "    </tr>\n",
       "    <tr>\n",
       "      <th>3</th>\n",
       "      <td>2018-01-04</td>\n",
       "    </tr>\n",
       "    <tr>\n",
       "      <th>4</th>\n",
       "      <td>2018-01-05</td>\n",
       "    </tr>\n",
       "  </tbody>\n",
       "</table>\n",
       "</div>"
      ],
      "text/plain": [
       "        Date\n",
       "0 2018-01-01\n",
       "1 2018-01-02\n",
       "2 2018-01-03\n",
       "3 2018-01-04\n",
       "4 2018-01-05"
      ]
     },
     "execution_count": 40,
     "metadata": {},
     "output_type": "execute_result"
    }
   ],
   "source": [
    "df2_2 = pd.DataFrame(date_generated)\n",
    "df2_2 = df2_2.rename(columns = {0:'Date'})\n",
    "df2_2['Date'] = df2_2['Date'].astype('datetime64')\n",
    "df2_2.head()"
   ]
  },
  {
   "cell_type": "code",
   "execution_count": 41,
   "id": "e1f1a73e",
   "metadata": {},
   "outputs": [],
   "source": [
    "df2_3 = pd.merge(df2_1,df2_2, how='right', left_on = 'Date', right_on = 'Date')"
   ]
  },
  {
   "cell_type": "code",
   "execution_count": 42,
   "id": "f6f771e7",
   "metadata": {},
   "outputs": [
    {
     "data": {
      "text/html": [
       "<div>\n",
       "<style scoped>\n",
       "    .dataframe tbody tr th:only-of-type {\n",
       "        vertical-align: middle;\n",
       "    }\n",
       "\n",
       "    .dataframe tbody tr th {\n",
       "        vertical-align: top;\n",
       "    }\n",
       "\n",
       "    .dataframe thead th {\n",
       "        text-align: right;\n",
       "    }\n",
       "</style>\n",
       "<table border=\"1\" class=\"dataframe\">\n",
       "  <thead>\n",
       "    <tr style=\"text-align: right;\">\n",
       "      <th></th>\n",
       "      <th>SP500_adj_price</th>\n",
       "      <th>SP500_volume</th>\n",
       "    </tr>\n",
       "    <tr>\n",
       "      <th>Date</th>\n",
       "      <th></th>\n",
       "      <th></th>\n",
       "    </tr>\n",
       "  </thead>\n",
       "  <tbody>\n",
       "    <tr>\n",
       "      <th>2018-01-01</th>\n",
       "      <td>NaN</td>\n",
       "      <td>NaN</td>\n",
       "    </tr>\n",
       "    <tr>\n",
       "      <th>2018-01-02</th>\n",
       "      <td>2695.810059</td>\n",
       "      <td>3.397430e+09</td>\n",
       "    </tr>\n",
       "    <tr>\n",
       "      <th>2018-01-03</th>\n",
       "      <td>2713.060059</td>\n",
       "      <td>3.544030e+09</td>\n",
       "    </tr>\n",
       "    <tr>\n",
       "      <th>2018-01-04</th>\n",
       "      <td>2723.989990</td>\n",
       "      <td>3.697340e+09</td>\n",
       "    </tr>\n",
       "    <tr>\n",
       "      <th>2018-01-05</th>\n",
       "      <td>2743.149902</td>\n",
       "      <td>3.239280e+09</td>\n",
       "    </tr>\n",
       "  </tbody>\n",
       "</table>\n",
       "</div>"
      ],
      "text/plain": [
       "            SP500_adj_price  SP500_volume\n",
       "Date                                     \n",
       "2018-01-01              NaN           NaN\n",
       "2018-01-02      2695.810059  3.397430e+09\n",
       "2018-01-03      2713.060059  3.544030e+09\n",
       "2018-01-04      2723.989990  3.697340e+09\n",
       "2018-01-05      2743.149902  3.239280e+09"
      ]
     },
     "execution_count": 42,
     "metadata": {},
     "output_type": "execute_result"
    }
   ],
   "source": [
    "df2_3.set_index('Date', inplace = True)\n",
    "df2_3.head()"
   ]
  },
  {
   "cell_type": "code",
   "execution_count": 43,
   "id": "cbc522d8",
   "metadata": {},
   "outputs": [
    {
     "data": {
      "text/html": [
       "<div>\n",
       "<style scoped>\n",
       "    .dataframe tbody tr th:only-of-type {\n",
       "        vertical-align: middle;\n",
       "    }\n",
       "\n",
       "    .dataframe tbody tr th {\n",
       "        vertical-align: top;\n",
       "    }\n",
       "\n",
       "    .dataframe thead th {\n",
       "        text-align: right;\n",
       "    }\n",
       "</style>\n",
       "<table border=\"1\" class=\"dataframe\">\n",
       "  <thead>\n",
       "    <tr style=\"text-align: right;\">\n",
       "      <th></th>\n",
       "      <th>SP500_adj_price</th>\n",
       "      <th>SP500_volume</th>\n",
       "    </tr>\n",
       "    <tr>\n",
       "      <th>Date</th>\n",
       "      <th></th>\n",
       "      <th></th>\n",
       "    </tr>\n",
       "  </thead>\n",
       "  <tbody>\n",
       "    <tr>\n",
       "      <th>2018-01-02</th>\n",
       "      <td>2695.810059</td>\n",
       "      <td>3.397430e+09</td>\n",
       "    </tr>\n",
       "    <tr>\n",
       "      <th>2018-01-03</th>\n",
       "      <td>2713.060059</td>\n",
       "      <td>3.544030e+09</td>\n",
       "    </tr>\n",
       "    <tr>\n",
       "      <th>2018-01-04</th>\n",
       "      <td>2723.989990</td>\n",
       "      <td>3.697340e+09</td>\n",
       "    </tr>\n",
       "    <tr>\n",
       "      <th>2018-01-05</th>\n",
       "      <td>2743.149902</td>\n",
       "      <td>3.239280e+09</td>\n",
       "    </tr>\n",
       "    <tr>\n",
       "      <th>2018-01-06</th>\n",
       "      <td>2743.149902</td>\n",
       "      <td>3.239280e+09</td>\n",
       "    </tr>\n",
       "    <tr>\n",
       "      <th>...</th>\n",
       "      <td>...</td>\n",
       "      <td>...</td>\n",
       "    </tr>\n",
       "    <tr>\n",
       "      <th>2022-10-27</th>\n",
       "      <td>3807.300049</td>\n",
       "      <td>4.687320e+09</td>\n",
       "    </tr>\n",
       "    <tr>\n",
       "      <th>2022-10-28</th>\n",
       "      <td>3901.060059</td>\n",
       "      <td>4.459410e+09</td>\n",
       "    </tr>\n",
       "    <tr>\n",
       "      <th>2022-10-29</th>\n",
       "      <td>3901.060059</td>\n",
       "      <td>4.459410e+09</td>\n",
       "    </tr>\n",
       "    <tr>\n",
       "      <th>2022-10-30</th>\n",
       "      <td>3901.060059</td>\n",
       "      <td>4.459410e+09</td>\n",
       "    </tr>\n",
       "    <tr>\n",
       "      <th>2022-10-31</th>\n",
       "      <td>3901.060059</td>\n",
       "      <td>4.459410e+09</td>\n",
       "    </tr>\n",
       "  </tbody>\n",
       "</table>\n",
       "<p>1764 rows × 2 columns</p>\n",
       "</div>"
      ],
      "text/plain": [
       "            SP500_adj_price  SP500_volume\n",
       "Date                                     \n",
       "2018-01-02      2695.810059  3.397430e+09\n",
       "2018-01-03      2713.060059  3.544030e+09\n",
       "2018-01-04      2723.989990  3.697340e+09\n",
       "2018-01-05      2743.149902  3.239280e+09\n",
       "2018-01-06      2743.149902  3.239280e+09\n",
       "...                     ...           ...\n",
       "2022-10-27      3807.300049  4.687320e+09\n",
       "2022-10-28      3901.060059  4.459410e+09\n",
       "2022-10-29      3901.060059  4.459410e+09\n",
       "2022-10-30      3901.060059  4.459410e+09\n",
       "2022-10-31      3901.060059  4.459410e+09\n",
       "\n",
       "[1764 rows x 2 columns]"
      ]
     },
     "execution_count": 43,
     "metadata": {},
     "output_type": "execute_result"
    }
   ],
   "source": [
    "df2_3 = df2_3.fillna(method=\"ffill\", axis = 0)\n",
    "df2_3 = df2_3.iloc[1:, :]\n",
    "df2_3"
   ]
  },
  {
   "cell_type": "markdown",
   "id": "0434da0a",
   "metadata": {},
   "source": [
    "### Time Series Plot for Stock Price and Daily Changes of Stock Price"
   ]
  },
  {
   "cell_type": "code",
   "execution_count": 44,
   "id": "b0f8a066",
   "metadata": {},
   "outputs": [],
   "source": [
    "import sys\n",
    "\n",
    "import pandas_datareader.data as web\n",
    "\n",
    "import statsmodels.formula.api as smf\n",
    "import statsmodels.tsa.api as smt\n",
    "import statsmodels.api as sm\n",
    "import scipy.stats as scs\n",
    "import statsmodels.tsa as smta\n",
    "\n",
    "import matplotlib as mpl\n",
    "%matplotlib inline\n",
    "p = print"
   ]
  },
  {
   "cell_type": "code",
   "execution_count": 45,
   "id": "373a4af0",
   "metadata": {},
   "outputs": [],
   "source": [
    "def tsplot(y, lags=None, figsize=(10, 8), style='bmh'):\n",
    "    if not isinstance(y, pd.Series):\n",
    "        y = pd.Series(y)\n",
    "    with plt.style.context(style):    \n",
    "        fig = plt.figure(figsize=figsize)\n",
    "        #mpl.rcParams['font.family'] = 'Ubuntu Mono'\n",
    "        layout = (2, 2)\n",
    "        ts_ax = plt.subplot2grid(layout, (0, 0), colspan=2)\n",
    "        acf_ax = plt.subplot2grid(layout, (1, 0))\n",
    "        pacf_ax = plt.subplot2grid(layout, (1, 1))\n",
    "        #qq_ax = plt.subplot2grid(layout, (2, 0))\n",
    "        #pp_ax = plt.subplot2grid(layout, (2, 1))\n",
    "        \n",
    "        y.plot(ax=ts_ax)\n",
    "        ts_ax.set_title('Time Series Analysis Plots')\n",
    "        smt.graphics.plot_acf(y, lags=lags, ax=acf_ax, alpha=0.5)\n",
    "        smt.graphics.plot_pacf(y, lags=lags, ax=pacf_ax, alpha=0.5)\n",
    "        #sm.qqplot(y, line='s', ax=qq_ax)\n",
    "        #qq_ax.set_title('QQ Plot')        \n",
    "        #scs.probplot(y, sparams=(y.mean(), y.std()), plot=pp_ax)\n",
    "\n",
    "        plt.tight_layout()\n",
    "    return "
   ]
  },
  {
   "cell_type": "code",
   "execution_count": 46,
   "id": "27f4d307",
   "metadata": {},
   "outputs": [
    {
     "data": {
      "image/png": "[encoded data removed]",
      "text/plain": [
       "<Figure size 720x576 with 3 Axes>"
      ]
     },
     "metadata": {
      "needs_background": "light"
     },
     "output_type": "display_data"
    }
   ],
   "source": [
    "tsplot(df2_3['SP500_adj_price'])\n",
    "plt.savefig('Figure3.png')"
   ]
  },
  {
   "cell_type": "code",
   "execution_count": 47,
   "id": "b21419b0",
   "metadata": {},
   "outputs": [
    {
     "data": {
      "image/png": "[encoded data removed]",
      "text/plain": [
       "<Figure size 720x576 with 3 Axes>"
      ]
     },
     "metadata": {
      "needs_background": "light"
     },
     "output_type": "display_data"
    }
   ],
   "source": [
    "tsplot(df2_3['SP500_volume'])\n",
    "plt.savefig('Figure4.png')"
   ]
  },
  {
   "cell_type": "markdown",
   "id": "1920702f",
   "metadata": {},
   "source": [
    "**In reality, time-series stock data is always non-stationary; for example, the plot for S&P500 stock price and total volume above are non-stationary. And the autocorrelation (ACF) and partial autocorrelation (PACF) plots testify to the autocorrelation.**\n",
    "\n",
    "**Next, I will do AD Fuller tests for each stock series to detect the stationarity.** "
   ]
  },
  {
   "cell_type": "code",
   "execution_count": 48,
   "id": "760f2f26",
   "metadata": {},
   "outputs": [
    {
     "name": "stdout",
     "output_type": "stream",
     "text": [
      "The p-value for the ADF test on S&P500 adjusted stock price is 0.6988742967077024\n",
      "The p-value for the ADF test on S&P500 total volume is 5.7408226686442366e-05\n"
     ]
    }
   ],
   "source": [
    "# Compute the ADF for the stock data to detect stationarity\n",
    "# The null hypothesis for each test is that the stock data is non-stationarity\n",
    "from statsmodels.tsa.stattools import adfuller\n",
    "SP500 = adfuller(df2_3['SP500_adj_price'])\n",
    "print('The p-value for the ADF test on S&P500 adjusted stock price is', SP500[1])\n",
    "SP500_volume = adfuller(df2_3['SP500_volume'])\n",
    "print('The p-value for the ADF test on S&P500 total volume is', SP500_volume[1])\n"
   ]
  },
  {
   "cell_type": "markdown",
   "id": "2e93516e",
   "metadata": {},
   "source": [
    "**From the results of ADF test, we could see the p-value for S\\&P500 stock data is 0.70, much larger than 0.05, so we could not reject the null hypotheses, which leads to the conclusion that the S\\&P 500 stock data is non-stationary. However, the p-value for the ADF test of S\\&P500 total volume data is smaller than 0.05, thus we could reject the null and conclude that stock total volume data is stationary.**</font>"
   ]
  },
  {
   "cell_type": "markdown",
   "id": "beeb8d1f",
   "metadata": {},
   "source": [
    "**Working with non-stationary data is difficult. To model, we need to convert a non-stationary process to stationary.** \n",
    "\n",
    "**First-difference is often used to convert a non-stationary process to stationary.** "
   ]
  },
  {
   "cell_type": "code",
   "execution_count": 49,
   "id": "ed4399ec",
   "metadata": {},
   "outputs": [],
   "source": [
    "# S&P500 Stock Data\n",
    "SP500_adj_price1d = np.diff(df2_3['SP500_adj_price'])"
   ]
  },
  {
   "cell_type": "code",
   "execution_count": 50,
   "id": "96129dd9",
   "metadata": {},
   "outputs": [
    {
     "name": "stdout",
     "output_type": "stream",
     "text": [
      "The p-value for the ADF test on first-difference of S&P500 stock data is 1.1453443296439017e-15\n"
     ]
    }
   ],
   "source": [
    "SP500_adj_price1d_ad = adfuller(SP500_adj_price1d)\n",
    "print('The p-value for the ADF test on first-difference of S&P500 stock data is', SP500_adj_price1d_ad[1])"
   ]
  },
  {
   "cell_type": "markdown",
   "id": "1c809827",
   "metadata": {},
   "source": [
    "**After getting the first-difference of S&P500 stock data, through the Dickey-Fuller test, p-value for the ADF test on first difference of S&P500 stock data is 1.1453443296439017e-15, which is smaller than 0.05, thus we could conclude that the first difference gives us stationary white noise w(t).**"
   ]
  },
  {
   "cell_type": "code",
   "execution_count": 51,
   "id": "c2235880",
   "metadata": {},
   "outputs": [
    {
     "data": {
      "image/png": "[encoded data removed]",
      "text/plain": [
       "<Figure size 720x576 with 3 Axes>"
      ]
     },
     "metadata": {
      "needs_background": "light"
     },
     "output_type": "display_data"
    }
   ],
   "source": [
    "tsplot(SP500_adj_price1d)\n",
    "plt.savefig('Figure5.png')"
   ]
  },
  {
   "cell_type": "markdown",
   "id": "8347f7cf",
   "metadata": {},
   "source": [
    "**Also, the first-difference stock data shows how the daily changes of S\\&P 500 stock price change along the timeline, which would be useful for us to explore the relationship between sentiment score changes shown in the USTR tweets, press releases and WSJ newspapers and the first-difference stock price.**"
   ]
  },
  {
   "cell_type": "code",
   "execution_count": 52,
   "id": "7ab42a39",
   "metadata": {},
   "outputs": [],
   "source": [
    "df2_4 = df2_3.copy()\n",
    "df2_4 = df2_4.iloc[1:,:]\n",
    "df2_4['SP500_adj_price1d'] = SP500_adj_price1d"
   ]
  },
  {
   "cell_type": "code",
   "execution_count": 53,
   "id": "563b3fed",
   "metadata": {},
   "outputs": [
    {
     "data": {
      "text/html": [
       "<div>\n",
       "<style scoped>\n",
       "    .dataframe tbody tr th:only-of-type {\n",
       "        vertical-align: middle;\n",
       "    }\n",
       "\n",
       "    .dataframe tbody tr th {\n",
       "        vertical-align: top;\n",
       "    }\n",
       "\n",
       "    .dataframe thead th {\n",
       "        text-align: right;\n",
       "    }\n",
       "</style>\n",
       "<table border=\"1\" class=\"dataframe\">\n",
       "  <thead>\n",
       "    <tr style=\"text-align: right;\">\n",
       "      <th></th>\n",
       "      <th>SP500_adj_price</th>\n",
       "      <th>SP500_volume</th>\n",
       "      <th>SP500_adj_price1d</th>\n",
       "    </tr>\n",
       "    <tr>\n",
       "      <th>Date</th>\n",
       "      <th></th>\n",
       "      <th></th>\n",
       "      <th></th>\n",
       "    </tr>\n",
       "  </thead>\n",
       "  <tbody>\n",
       "    <tr>\n",
       "      <th>2018-01-03</th>\n",
       "      <td>2713.060059</td>\n",
       "      <td>3.544030e+09</td>\n",
       "      <td>17.250000</td>\n",
       "    </tr>\n",
       "    <tr>\n",
       "      <th>2018-01-04</th>\n",
       "      <td>2723.989990</td>\n",
       "      <td>3.697340e+09</td>\n",
       "      <td>10.929931</td>\n",
       "    </tr>\n",
       "    <tr>\n",
       "      <th>2018-01-05</th>\n",
       "      <td>2743.149902</td>\n",
       "      <td>3.239280e+09</td>\n",
       "      <td>19.159912</td>\n",
       "    </tr>\n",
       "    <tr>\n",
       "      <th>2018-01-06</th>\n",
       "      <td>2743.149902</td>\n",
       "      <td>3.239280e+09</td>\n",
       "      <td>0.000000</td>\n",
       "    </tr>\n",
       "    <tr>\n",
       "      <th>2018-01-07</th>\n",
       "      <td>2743.149902</td>\n",
       "      <td>3.239280e+09</td>\n",
       "      <td>0.000000</td>\n",
       "    </tr>\n",
       "  </tbody>\n",
       "</table>\n",
       "</div>"
      ],
      "text/plain": [
       "            SP500_adj_price  SP500_volume  SP500_adj_price1d\n",
       "Date                                                        \n",
       "2018-01-03      2713.060059  3.544030e+09          17.250000\n",
       "2018-01-04      2723.989990  3.697340e+09          10.929931\n",
       "2018-01-05      2743.149902  3.239280e+09          19.159912\n",
       "2018-01-06      2743.149902  3.239280e+09           0.000000\n",
       "2018-01-07      2743.149902  3.239280e+09           0.000000"
      ]
     },
     "execution_count": 53,
     "metadata": {},
     "output_type": "execute_result"
    }
   ],
   "source": [
    "df2_4.head()"
   ]
  },
  {
   "cell_type": "markdown",
   "id": "d72db010",
   "metadata": {},
   "source": [
    "# Data Aggregation & Model Building"
   ]
  },
  {
   "cell_type": "code",
   "execution_count": 54,
   "id": "891fecb9",
   "metadata": {},
   "outputs": [],
   "source": [
    "df1 = df1.set_index('Date')"
   ]
  },
  {
   "cell_type": "code",
   "execution_count": 55,
   "id": "e93d4368",
   "metadata": {
    "scrolled": true
   },
   "outputs": [
    {
     "data": {
      "text/html": [
       "<div>\n",
       "<style scoped>\n",
       "    .dataframe tbody tr th:only-of-type {\n",
       "        vertical-align: middle;\n",
       "    }\n",
       "\n",
       "    .dataframe tbody tr th {\n",
       "        vertical-align: top;\n",
       "    }\n",
       "\n",
       "    .dataframe thead th {\n",
       "        text-align: right;\n",
       "    }\n",
       "</style>\n",
       "<table border=\"1\" class=\"dataframe\">\n",
       "  <thead>\n",
       "    <tr style=\"text-align: right;\">\n",
       "      <th></th>\n",
       "      <th>SP500_adj_price</th>\n",
       "      <th>SP500_volume</th>\n",
       "      <th>SP500_adj_price1d</th>\n",
       "      <th>NewsTitle</th>\n",
       "      <th>NewsText</th>\n",
       "      <th>VADER_Newspaper_Negative</th>\n",
       "      <th>VADER_Newspaper_Positive</th>\n",
       "      <th>VADER_Newspaper_Neutral</th>\n",
       "      <th>VADER_Newspaper_Compound</th>\n",
       "      <th>TextBlob_Newspaper_Sentiment_Polarity</th>\n",
       "      <th>TextBlob_Newspaper_Sentiment_Subjectivity</th>\n",
       "      <th>VADER_Newspaper_Positive_Sentiment</th>\n",
       "      <th>TextBlob_Newspaper_Positive_Sentiment</th>\n",
       "    </tr>\n",
       "    <tr>\n",
       "      <th>Date</th>\n",
       "      <th></th>\n",
       "      <th></th>\n",
       "      <th></th>\n",
       "      <th></th>\n",
       "      <th></th>\n",
       "      <th></th>\n",
       "      <th></th>\n",
       "      <th></th>\n",
       "      <th></th>\n",
       "      <th></th>\n",
       "      <th></th>\n",
       "      <th></th>\n",
       "      <th></th>\n",
       "    </tr>\n",
       "  </thead>\n",
       "  <tbody>\n",
       "    <tr>\n",
       "      <th>2018-01-03</th>\n",
       "      <td>2713.060059</td>\n",
       "      <td>3.544030e+09</td>\n",
       "      <td>17.250000</td>\n",
       "      <td>The Hunt for Centuries-Old Books Reveals the P...</td>\n",
       "      <td>digit databas centuries-old book dawn print sh...</td>\n",
       "      <td>0.015</td>\n",
       "      <td>0.045</td>\n",
       "      <td>0.940</td>\n",
       "      <td>0.9042</td>\n",
       "      <td>0.058201</td>\n",
       "      <td>0.276989</td>\n",
       "      <td>1.0</td>\n",
       "      <td>1.0</td>\n",
       "    </tr>\n",
       "    <tr>\n",
       "      <th>2018-01-03</th>\n",
       "      <td>2713.060059</td>\n",
       "      <td>3.544030e+09</td>\n",
       "      <td>17.250000</td>\n",
       "      <td>Foreign Firms Rush Washers, Solar Panels Into ...</td>\n",
       "      <td>foreign maker product includ wash machin solar...</td>\n",
       "      <td>0.069</td>\n",
       "      <td>0.107</td>\n",
       "      <td>0.824</td>\n",
       "      <td>0.9823</td>\n",
       "      <td>0.047174</td>\n",
       "      <td>0.388386</td>\n",
       "      <td>1.0</td>\n",
       "      <td>1.0</td>\n",
       "    </tr>\n",
       "    <tr>\n",
       "      <th>2018-01-03</th>\n",
       "      <td>2713.060059</td>\n",
       "      <td>3.544030e+09</td>\n",
       "      <td>17.250000</td>\n",
       "      <td>Readers Take Alan Blinder to Task on Taxes</td>\n",
       "      <td>alan blinder' \"almost everyth wrong new tax la...</td>\n",
       "      <td>0.124</td>\n",
       "      <td>0.202</td>\n",
       "      <td>0.675</td>\n",
       "      <td>0.9515</td>\n",
       "      <td>0.133141</td>\n",
       "      <td>0.451253</td>\n",
       "      <td>1.0</td>\n",
       "      <td>1.0</td>\n",
       "    </tr>\n",
       "    <tr>\n",
       "      <th>2018-01-03</th>\n",
       "      <td>2713.060059</td>\n",
       "      <td>3.544030e+09</td>\n",
       "      <td>17.250000</td>\n",
       "      <td>China's Yuan Setting Is Highest Since May 2016...</td>\n",
       "      <td>china' central bank guid yuan highest level u....</td>\n",
       "      <td>0.037</td>\n",
       "      <td>0.124</td>\n",
       "      <td>0.838</td>\n",
       "      <td>0.9799</td>\n",
       "      <td>0.077356</td>\n",
       "      <td>0.342184</td>\n",
       "      <td>1.0</td>\n",
       "      <td>1.0</td>\n",
       "    </tr>\n",
       "    <tr>\n",
       "      <th>2018-01-04</th>\n",
       "      <td>2723.989990</td>\n",
       "      <td>3.697340e+09</td>\n",
       "      <td>10.929931</td>\n",
       "      <td>Finance &amp;amp; Markets: Yuan Fix at Strongest S...</td>\n",
       "      <td>china' central bank guid yuan highest level u....</td>\n",
       "      <td>0.047</td>\n",
       "      <td>0.108</td>\n",
       "      <td>0.845</td>\n",
       "      <td>0.9493</td>\n",
       "      <td>0.070952</td>\n",
       "      <td>0.338164</td>\n",
       "      <td>1.0</td>\n",
       "      <td>1.0</td>\n",
       "    </tr>\n",
       "  </tbody>\n",
       "</table>\n",
       "</div>"
      ],
      "text/plain": [
       "            SP500_adj_price  SP500_volume  SP500_adj_price1d  \\\n",
       "Date                                                           \n",
       "2018-01-03      2713.060059  3.544030e+09          17.250000   \n",
       "2018-01-03      2713.060059  3.544030e+09          17.250000   \n",
       "2018-01-03      2713.060059  3.544030e+09          17.250000   \n",
       "2018-01-03      2713.060059  3.544030e+09          17.250000   \n",
       "2018-01-04      2723.989990  3.697340e+09          10.929931   \n",
       "\n",
       "                                                    NewsTitle  \\\n",
       "Date                                                            \n",
       "2018-01-03  The Hunt for Centuries-Old Books Reveals the P...   \n",
       "2018-01-03  Foreign Firms Rush Washers, Solar Panels Into ...   \n",
       "2018-01-03         Readers Take Alan Blinder to Task on Taxes   \n",
       "2018-01-03  China's Yuan Setting Is Highest Since May 2016...   \n",
       "2018-01-04  Finance &amp; Markets: Yuan Fix at Strongest S...   \n",
       "\n",
       "                                                     NewsText  \\\n",
       "Date                                                            \n",
       "2018-01-03  digit databas centuries-old book dawn print sh...   \n",
       "2018-01-03  foreign maker product includ wash machin solar...   \n",
       "2018-01-03  alan blinder' \"almost everyth wrong new tax la...   \n",
       "2018-01-03  china' central bank guid yuan highest level u....   \n",
       "2018-01-04  china' central bank guid yuan highest level u....   \n",
       "\n",
       "            VADER_Newspaper_Negative  VADER_Newspaper_Positive  \\\n",
       "Date                                                             \n",
       "2018-01-03                     0.015                     0.045   \n",
       "2018-01-03                     0.069                     0.107   \n",
       "2018-01-03                     0.124                     0.202   \n",
       "2018-01-03                     0.037                     0.124   \n",
       "2018-01-04                     0.047                     0.108   \n",
       "\n",
       "            VADER_Newspaper_Neutral  VADER_Newspaper_Compound  \\\n",
       "Date                                                            \n",
       "2018-01-03                    0.940                    0.9042   \n",
       "2018-01-03                    0.824                    0.9823   \n",
       "2018-01-03                    0.675                    0.9515   \n",
       "2018-01-03                    0.838                    0.9799   \n",
       "2018-01-04                    0.845                    0.9493   \n",
       "\n",
       "            TextBlob_Newspaper_Sentiment_Polarity  \\\n",
       "Date                                                \n",
       "2018-01-03                               0.058201   \n",
       "2018-01-03                               0.047174   \n",
       "2018-01-03                               0.133141   \n",
       "2018-01-03                               0.077356   \n",
       "2018-01-04                               0.070952   \n",
       "\n",
       "            TextBlob_Newspaper_Sentiment_Subjectivity  \\\n",
       "Date                                                    \n",
       "2018-01-03                                   0.276989   \n",
       "2018-01-03                                   0.388386   \n",
       "2018-01-03                                   0.451253   \n",
       "2018-01-03                                   0.342184   \n",
       "2018-01-04                                   0.338164   \n",
       "\n",
       "            VADER_Newspaper_Positive_Sentiment  \\\n",
       "Date                                             \n",
       "2018-01-03                                 1.0   \n",
       "2018-01-03                                 1.0   \n",
       "2018-01-03                                 1.0   \n",
       "2018-01-03                                 1.0   \n",
       "2018-01-04                                 1.0   \n",
       "\n",
       "            TextBlob_Newspaper_Positive_Sentiment  \n",
       "Date                                               \n",
       "2018-01-03                                    1.0  \n",
       "2018-01-03                                    1.0  \n",
       "2018-01-03                                    1.0  \n",
       "2018-01-03                                    1.0  \n",
       "2018-01-04                                    1.0  "
      ]
     },
     "execution_count": 55,
     "metadata": {},
     "output_type": "execute_result"
    }
   ],
   "source": [
    "df2_5 = pd.merge(df2_4,df1, how='left', left_index=True, right_index=True)\n",
    "df2_5.head()"
   ]
  },
  {
   "cell_type": "code",
   "execution_count": 56,
   "id": "37dce8df",
   "metadata": {},
   "outputs": [
    {
     "name": "stdout",
     "output_type": "stream",
     "text": [
      "<class 'pandas.core.frame.DataFrame'>\n",
      "DatetimeIndex: 8111 entries, 2018-01-03 to 2022-10-31\n",
      "Data columns (total 13 columns):\n",
      " #   Column                                     Non-Null Count  Dtype  \n",
      "---  ------                                     --------------  -----  \n",
      " 0   SP500_adj_price                            8111 non-null   float64\n",
      " 1   SP500_volume                               8111 non-null   float64\n",
      " 2   SP500_adj_price1d                          8111 non-null   float64\n",
      " 3   NewsTitle                                  5862 non-null   object \n",
      " 4   NewsText                                   7638 non-null   object \n",
      " 5   VADER_Newspaper_Negative                   7638 non-null   float64\n",
      " 6   VADER_Newspaper_Positive                   7638 non-null   float64\n",
      " 7   VADER_Newspaper_Neutral                    7638 non-null   float64\n",
      " 8   VADER_Newspaper_Compound                   7638 non-null   float64\n",
      " 9   TextBlob_Newspaper_Sentiment_Polarity      7638 non-null   float64\n",
      " 10  TextBlob_Newspaper_Sentiment_Subjectivity  7638 non-null   float64\n",
      " 11  VADER_Newspaper_Positive_Sentiment         7638 non-null   float64\n",
      " 12  TextBlob_Newspaper_Positive_Sentiment      7638 non-null   float64\n",
      "dtypes: float64(11), object(2)\n",
      "memory usage: 887.1+ KB\n"
     ]
    }
   ],
   "source": [
    "df2_5.info()"
   ]
  },
  {
   "cell_type": "markdown",
   "id": "b39cbd1c",
   "metadata": {},
   "source": [
    "## Exploring Stock Price vs. Newspaper Sentiment"
   ]
  },
  {
   "cell_type": "code",
   "execution_count": 57,
   "id": "6650de2b",
   "metadata": {},
   "outputs": [
    {
     "data": {
      "text/html": [
       "<table class=\"simpletable\">\n",
       "<caption>OLS Regression Results</caption>\n",
       "<tr>\n",
       "  <th>Dep. Variable:</th>     <td>SP500_adj_price</td> <th>  R-squared:         </th> <td>   0.033</td> \n",
       "</tr>\n",
       "<tr>\n",
       "  <th>Model:</th>                   <td>OLS</td>       <th>  Adj. R-squared:    </th> <td>   0.033</td> \n",
       "</tr>\n",
       "<tr>\n",
       "  <th>Method:</th>             <td>Least Squares</td>  <th>  F-statistic:       </th> <td>   52.40</td> \n",
       "</tr>\n",
       "<tr>\n",
       "  <th>Date:</th>             <td>Fri, 02 Dec 2022</td> <th>  Prob (F-statistic):</th> <td>1.24e-53</td> \n",
       "</tr>\n",
       "<tr>\n",
       "  <th>Time:</th>                 <td>23:04:46</td>     <th>  Log-Likelihood:    </th> <td> -60543.</td> \n",
       "</tr>\n",
       "<tr>\n",
       "  <th>No. Observations:</th>      <td>  7638</td>      <th>  AIC:               </th> <td>1.211e+05</td>\n",
       "</tr>\n",
       "<tr>\n",
       "  <th>Df Residuals:</th>          <td>  7632</td>      <th>  BIC:               </th> <td>1.211e+05</td>\n",
       "</tr>\n",
       "<tr>\n",
       "  <th>Df Model:</th>              <td>     5</td>      <th>                     </th>     <td> </td>    \n",
       "</tr>\n",
       "<tr>\n",
       "  <th>Covariance Type:</th>      <td>nonrobust</td>    <th>                     </th>     <td> </td>    \n",
       "</tr>\n",
       "</table>\n",
       "<table class=\"simpletable\">\n",
       "<tr>\n",
       "                    <td></td>                       <th>coef</th>     <th>std err</th>      <th>t</th>      <th>P>|t|</th>  <th>[0.025</th>    <th>0.975]</th>  \n",
       "</tr>\n",
       "<tr>\n",
       "  <th>const</th>                                 <td>-2667.7727</td> <td> 1.52e+04</td> <td>   -0.176</td> <td> 0.861</td> <td>-3.25e+04</td> <td> 2.71e+04</td>\n",
       "</tr>\n",
       "<tr>\n",
       "  <th>VADER_Newspaper_Negative</th>              <td> 3847.2926</td> <td> 1.52e+04</td> <td>    0.253</td> <td> 0.800</td> <td>-2.59e+04</td> <td> 3.36e+04</td>\n",
       "</tr>\n",
       "<tr>\n",
       "  <th>VADER_Newspaper_Positive</th>              <td> 5502.1120</td> <td> 1.52e+04</td> <td>    0.362</td> <td> 0.717</td> <td>-2.43e+04</td> <td> 3.53e+04</td>\n",
       "</tr>\n",
       "<tr>\n",
       "  <th>VADER_Newspaper_Neutral</th>               <td> 6514.1618</td> <td> 1.52e+04</td> <td>    0.429</td> <td> 0.668</td> <td>-2.33e+04</td> <td> 3.63e+04</td>\n",
       "</tr>\n",
       "<tr>\n",
       "  <th>VADER_Newspaper_Compound</th>              <td>   -8.7922</td> <td>   16.885</td> <td>   -0.521</td> <td> 0.603</td> <td>  -41.891</td> <td>   24.307</td>\n",
       "</tr>\n",
       "<tr>\n",
       "  <th>TextBlob_Newspaper_Sentiment_Polarity</th> <td>  764.2328</td> <td>  120.917</td> <td>    6.320</td> <td> 0.000</td> <td>  527.202</td> <td> 1001.263</td>\n",
       "</tr>\n",
       "</table>\n",
       "<table class=\"simpletable\">\n",
       "<tr>\n",
       "  <th>Omnibus:</th>       <td>16088.751</td> <th>  Durbin-Watson:     </th> <td>   0.063</td> \n",
       "</tr>\n",
       "<tr>\n",
       "  <th>Prob(Omnibus):</th>  <td> 0.000</td>   <th>  Jarque-Bera (JB):  </th> <td> 524.716</td> \n",
       "</tr>\n",
       "<tr>\n",
       "  <th>Skew:</th>           <td> 0.077</td>   <th>  Prob(JB):          </th> <td>1.15e-114</td>\n",
       "</tr>\n",
       "<tr>\n",
       "  <th>Kurtosis:</th>       <td> 1.725</td>   <th>  Cond. No.          </th> <td>5.39e+03</td> \n",
       "</tr>\n",
       "</table><br/><br/>Notes:<br/>[1] Standard Errors assume that the covariance matrix of the errors is correctly specified.<br/>[2] The condition number is large, 5.39e+03. This might indicate that there are<br/>strong multicollinearity or other numerical problems."
      ],
      "text/plain": [
       "<class 'statsmodels.iolib.summary.Summary'>\n",
       "\"\"\"\n",
       "                            OLS Regression Results                            \n",
       "==============================================================================\n",
       "Dep. Variable:        SP500_adj_price   R-squared:                       0.033\n",
       "Model:                            OLS   Adj. R-squared:                  0.033\n",
       "Method:                 Least Squares   F-statistic:                     52.40\n",
       "Date:                Fri, 02 Dec 2022   Prob (F-statistic):           1.24e-53\n",
       "Time:                        23:04:46   Log-Likelihood:                -60543.\n",
       "No. Observations:                7638   AIC:                         1.211e+05\n",
       "Df Residuals:                    7632   BIC:                         1.211e+05\n",
       "Df Model:                           5                                         \n",
       "Covariance Type:            nonrobust                                         \n",
       "=========================================================================================================\n",
       "                                            coef    std err          t      P>|t|      [0.025      0.975]\n",
       "---------------------------------------------------------------------------------------------------------\n",
       "const                                 -2667.7727   1.52e+04     -0.176      0.861   -3.25e+04    2.71e+04\n",
       "VADER_Newspaper_Negative               3847.2926   1.52e+04      0.253      0.800   -2.59e+04    3.36e+04\n",
       "VADER_Newspaper_Positive               5502.1120   1.52e+04      0.362      0.717   -2.43e+04    3.53e+04\n",
       "VADER_Newspaper_Neutral                6514.1618   1.52e+04      0.429      0.668   -2.33e+04    3.63e+04\n",
       "VADER_Newspaper_Compound                 -8.7922     16.885     -0.521      0.603     -41.891      24.307\n",
       "TextBlob_Newspaper_Sentiment_Polarity   764.2328    120.917      6.320      0.000     527.202    1001.263\n",
       "==============================================================================\n",
       "Omnibus:                    16088.751   Durbin-Watson:                   0.063\n",
       "Prob(Omnibus):                  0.000   Jarque-Bera (JB):              524.716\n",
       "Skew:                           0.077   Prob(JB):                    1.15e-114\n",
       "Kurtosis:                       1.725   Cond. No.                     5.39e+03\n",
       "==============================================================================\n",
       "\n",
       "Notes:\n",
       "[1] Standard Errors assume that the covariance matrix of the errors is correctly specified.\n",
       "[2] The condition number is large, 5.39e+03. This might indicate that there are\n",
       "strong multicollinearity or other numerical problems.\n",
       "\"\"\""
      ]
     },
     "execution_count": 57,
     "metadata": {},
     "output_type": "execute_result"
    }
   ],
   "source": [
    "#creating OLS regression using statsmodels API\n",
    "X1 = sm.add_constant(df2_5[['VADER_Newspaper_Negative', 'VADER_Newspaper_Positive', 'VADER_Newspaper_Neutral', 'VADER_Newspaper_Compound', 'TextBlob_Newspaper_Sentiment_Polarity']])\n",
    "lr_model = sm.OLS(df2_5['SP500_adj_price'], X1, missing='drop').fit()\n",
    "# summarize our model\n",
    "lr_model.summary()"
   ]
  },
  {
   "cell_type": "markdown",
   "id": "1d136354",
   "metadata": {},
   "source": [
    "**Based on the summary of linear regression, the R squared value is nearly 0.03, leading to the conclusion that the linear regression model is not a good model representing the relationship between the stock price and the sentiment scores. Next, I will utilize NLP to explore the accuracy of using news articles content to predict the changes of stock data changes.**"
   ]
  },
  {
   "cell_type": "markdown",
   "id": "46422284",
   "metadata": {},
   "source": [
    "## Exploring Stock Price vs Newspaper Text"
   ]
  },
  {
   "cell_type": "code",
   "execution_count": 58,
   "id": "d367dfe3",
   "metadata": {},
   "outputs": [],
   "source": [
    "df2_5['SP500_adj_price_increase'] = np.where(df2_5['SP500_adj_price1d'] > 0, 1, 0)"
   ]
  },
  {
   "cell_type": "code",
   "execution_count": 59,
   "id": "871d5824",
   "metadata": {},
   "outputs": [
    {
     "data": {
      "text/plain": [
       "SP500_adj_price_increase\n",
       "0    4977\n",
       "1    3134\n",
       "Name: SP500_adj_price_increase, dtype: int64"
      ]
     },
     "execution_count": 59,
     "metadata": {},
     "output_type": "execute_result"
    }
   ],
   "source": [
    "df2_6 = df2_5['SP500_adj_price_increase'].groupby(df2_5['SP500_adj_price_increase']).count()\n",
    "df2_6"
   ]
  },
  {
   "cell_type": "code",
   "execution_count": 60,
   "id": "e5ffb26a",
   "metadata": {},
   "outputs": [],
   "source": [
    "df2_7 = df2_5[['NewsText', 'SP500_adj_price_increase']]\n",
    "df2_7 = df2_7.dropna()"
   ]
  },
  {
   "cell_type": "code",
   "execution_count": 61,
   "id": "5a6ed48c",
   "metadata": {},
   "outputs": [],
   "source": [
    "# Split data into training and test sets\n",
    "X_train, X_test, y_train, y_test = train_test_split(df2_7['NewsText'], \n",
    "                                                    df2_7['SP500_adj_price_increase'],\n",
    "                                                    test_size = 0.25,\n",
    "                                                    random_state=0)"
   ]
  },
  {
   "cell_type": "markdown",
   "id": "7ace2dc3",
   "metadata": {},
   "source": [
    "## CountVectorizer\n",
    "Bag of words"
   ]
  },
  {
   "cell_type": "code",
   "execution_count": 62,
   "id": "665ac00f",
   "metadata": {},
   "outputs": [
    {
     "data": {
      "text/html": [
       "<style>#sk-container-id-3 {color: black;background-color: white;}#sk-container-id-3 pre{padding: 0;}#sk-container-id-3 div.sk-toggleable {background-color: white;}#sk-container-id-3 label.sk-toggleable__label {cursor: pointer;display: block;width: 100%;margin-bottom: 0;padding: 0.3em;box-sizing: border-box;text-align: center;}#sk-container-id-3 label.sk-toggleable__label-arrow:before {content: \"▸\";float: left;margin-right: 0.25em;color: #696969;}#sk-container-id-3 label.sk-toggleable__label-arrow:hover:before {color: black;}#sk-container-id-3 div.sk-estimator:hover label.sk-toggleable__label-arrow:before {color: black;}#sk-container-id-3 div.sk-toggleable__content {max-height: 0;max-width: 0;overflow: hidden;text-align: left;background-color: #f0f8ff;}#sk-container-id-3 div.sk-toggleable__content pre {margin: 0.2em;color: black;border-radius: 0.25em;background-color: #f0f8ff;}#sk-container-id-3 input.sk-toggleable__control:checked~div.sk-toggleable__content {max-height: 200px;max-width: 100%;overflow: auto;}#sk-container-id-3 input.sk-toggleable__control:checked~label.sk-toggleable__label-arrow:before {content: \"▾\";}#sk-container-id-3 div.sk-estimator input.sk-toggleable__control:checked~label.sk-toggleable__label {background-color: #d4ebff;}#sk-container-id-3 div.sk-label input.sk-toggleable__control:checked~label.sk-toggleable__label {background-color: #d4ebff;}#sk-container-id-3 input.sk-hidden--visually {border: 0;clip: rect(1px 1px 1px 1px);clip: rect(1px, 1px, 1px, 1px);height: 1px;margin: -1px;overflow: hidden;padding: 0;position: absolute;width: 1px;}#sk-container-id-3 div.sk-estimator {font-family: monospace;background-color: #f0f8ff;border: 1px dotted black;border-radius: 0.25em;box-sizing: border-box;margin-bottom: 0.5em;}#sk-container-id-3 div.sk-estimator:hover {background-color: #d4ebff;}#sk-container-id-3 div.sk-parallel-item::after {content: \"\";width: 100%;border-bottom: 1px solid gray;flex-grow: 1;}#sk-container-id-3 div.sk-label:hover label.sk-toggleable__label {background-color: #d4ebff;}#sk-container-id-3 div.sk-serial::before {content: \"\";position: absolute;border-left: 1px solid gray;box-sizing: border-box;top: 0;bottom: 0;left: 50%;z-index: 0;}#sk-container-id-3 div.sk-serial {display: flex;flex-direction: column;align-items: center;background-color: white;padding-right: 0.2em;padding-left: 0.2em;position: relative;}#sk-container-id-3 div.sk-item {position: relative;z-index: 1;}#sk-container-id-3 div.sk-parallel {display: flex;align-items: stretch;justify-content: center;background-color: white;position: relative;}#sk-container-id-3 div.sk-item::before, #sk-container-id-3 div.sk-parallel-item::before {content: \"\";position: absolute;border-left: 1px solid gray;box-sizing: border-box;top: 0;bottom: 0;left: 50%;z-index: -1;}#sk-container-id-3 div.sk-parallel-item {display: flex;flex-direction: column;z-index: 1;position: relative;background-color: white;}#sk-container-id-3 div.sk-parallel-item:first-child::after {align-self: flex-end;width: 50%;}#sk-container-id-3 div.sk-parallel-item:last-child::after {align-self: flex-start;width: 50%;}#sk-container-id-3 div.sk-parallel-item:only-child::after {width: 0;}#sk-container-id-3 div.sk-dashed-wrapped {border: 1px dashed gray;margin: 0 0.4em 0.5em 0.4em;box-sizing: border-box;padding-bottom: 0.4em;background-color: white;}#sk-container-id-3 div.sk-label label {font-family: monospace;font-weight: bold;display: inline-block;line-height: 1.2em;}#sk-container-id-3 div.sk-label-container {text-align: center;}#sk-container-id-3 div.sk-container {/* jupyter's `normalize.less` sets `[hidden] { display: none; }` but bootstrap.min.css set `[hidden] { display: none !important; }` so we also need the `!important` here to be able to override the default hidden behavior on the sphinx rendered scikit-learn.org. See: https://github.com/scikit-learn/scikit-learn/issues/21755 */display: inline-block !important;position: relative;}#sk-container-id-3 div.sk-text-repr-fallback {display: none;}</style><div id=\"sk-container-id-3\" class=\"sk-top-container\"><div class=\"sk-text-repr-fallback\"><pre>CountVectorizer()</pre><b>In a Jupyter environment, please rerun this cell to show the HTML representation or trust the notebook. <br />On GitHub, the HTML representation is unable to render, please try loading this page with nbviewer.org.</b></div><div class=\"sk-container\" hidden><div class=\"sk-item\"><div class=\"sk-estimator sk-toggleable\"><input class=\"sk-toggleable__control sk-hidden--visually\" id=\"sk-estimator-id-3\" type=\"checkbox\" checked><label for=\"sk-estimator-id-3\" class=\"sk-toggleable__label sk-toggleable__label-arrow\">CountVectorizer</label><div class=\"sk-toggleable__content\"><pre>CountVectorizer()</pre></div></div></div></div></div>"
      ],
      "text/plain": [
       "CountVectorizer()"
      ]
     },
     "execution_count": 62,
     "metadata": {},
     "output_type": "execute_result"
    }
   ],
   "source": [
    "from sklearn.feature_extraction.text import CountVectorizer\n",
    "\n",
    "# Fit the CountVectorizer to the training data\n",
    "vect = CountVectorizer().fit(X_train)\n",
    "vect"
   ]
  },
  {
   "cell_type": "code",
   "execution_count": 63,
   "id": "9de99dd3",
   "metadata": {},
   "outputs": [
    {
     "data": {
      "text/plain": [
       "array(['____________________________________________________________',\n",
       "       'anatoliy', 'backdrop', 'blinking', 'calkins', 'civilisation',\n",
       "       'cornromania', 'definitely', 'dotis', 'entrepreneurial', 'filmed',\n",
       "       'gazzal', 'halle', 'huerta', 'intertwined', 'khawar', 'lifea',\n",
       "       'marland', 'mitski', 'newmark', 'oti', 'photocopi', 'projectil',\n",
       "       'refer', 'rounding', 'senzel', 'sofi', 'subsoil', 'therapy',\n",
       "       'ulrich', 'versicherung', 'wolrath'], dtype=object)"
      ]
     },
     "execution_count": 63,
     "metadata": {},
     "output_type": "execute_result"
    }
   ],
   "source": [
    "vect.get_feature_names_out()[::2000]"
   ]
  },
  {
   "cell_type": "code",
   "execution_count": 64,
   "id": "a03e5844",
   "metadata": {},
   "outputs": [
    {
     "data": {
      "text/plain": [
       "63286"
      ]
     },
     "execution_count": 64,
     "metadata": {},
     "output_type": "execute_result"
    }
   ],
   "source": [
    "len(vect.get_feature_names())"
   ]
  },
  {
   "cell_type": "code",
   "execution_count": 65,
   "id": "338d4668",
   "metadata": {},
   "outputs": [],
   "source": [
    "# transform the documents in the training and testing data to a document-term matrix\n",
    "X_train_vectorized = vect.transform(X_train)\n",
    "X_test_vectorized = vect.transform(X_test)"
   ]
  },
  {
   "cell_type": "code",
   "execution_count": 66,
   "id": "0686521b",
   "metadata": {},
   "outputs": [
    {
     "data": {
      "text/html": [
       "<style>#sk-container-id-4 {color: black;background-color: white;}#sk-container-id-4 pre{padding: 0;}#sk-container-id-4 div.sk-toggleable {background-color: white;}#sk-container-id-4 label.sk-toggleable__label {cursor: pointer;display: block;width: 100%;margin-bottom: 0;padding: 0.3em;box-sizing: border-box;text-align: center;}#sk-container-id-4 label.sk-toggleable__label-arrow:before {content: \"▸\";float: left;margin-right: 0.25em;color: #696969;}#sk-container-id-4 label.sk-toggleable__label-arrow:hover:before {color: black;}#sk-container-id-4 div.sk-estimator:hover label.sk-toggleable__label-arrow:before {color: black;}#sk-container-id-4 div.sk-toggleable__content {max-height: 0;max-width: 0;overflow: hidden;text-align: left;background-color: #f0f8ff;}#sk-container-id-4 div.sk-toggleable__content pre {margin: 0.2em;color: black;border-radius: 0.25em;background-color: #f0f8ff;}#sk-container-id-4 input.sk-toggleable__control:checked~div.sk-toggleable__content {max-height: 200px;max-width: 100%;overflow: auto;}#sk-container-id-4 input.sk-toggleable__control:checked~label.sk-toggleable__label-arrow:before {content: \"▾\";}#sk-container-id-4 div.sk-estimator input.sk-toggleable__control:checked~label.sk-toggleable__label {background-color: #d4ebff;}#sk-container-id-4 div.sk-label input.sk-toggleable__control:checked~label.sk-toggleable__label {background-color: #d4ebff;}#sk-container-id-4 input.sk-hidden--visually {border: 0;clip: rect(1px 1px 1px 1px);clip: rect(1px, 1px, 1px, 1px);height: 1px;margin: -1px;overflow: hidden;padding: 0;position: absolute;width: 1px;}#sk-container-id-4 div.sk-estimator {font-family: monospace;background-color: #f0f8ff;border: 1px dotted black;border-radius: 0.25em;box-sizing: border-box;margin-bottom: 0.5em;}#sk-container-id-4 div.sk-estimator:hover {background-color: #d4ebff;}#sk-container-id-4 div.sk-parallel-item::after {content: \"\";width: 100%;border-bottom: 1px solid gray;flex-grow: 1;}#sk-container-id-4 div.sk-label:hover label.sk-toggleable__label {background-color: #d4ebff;}#sk-container-id-4 div.sk-serial::before {content: \"\";position: absolute;border-left: 1px solid gray;box-sizing: border-box;top: 0;bottom: 0;left: 50%;z-index: 0;}#sk-container-id-4 div.sk-serial {display: flex;flex-direction: column;align-items: center;background-color: white;padding-right: 0.2em;padding-left: 0.2em;position: relative;}#sk-container-id-4 div.sk-item {position: relative;z-index: 1;}#sk-container-id-4 div.sk-parallel {display: flex;align-items: stretch;justify-content: center;background-color: white;position: relative;}#sk-container-id-4 div.sk-item::before, #sk-container-id-4 div.sk-parallel-item::before {content: \"\";position: absolute;border-left: 1px solid gray;box-sizing: border-box;top: 0;bottom: 0;left: 50%;z-index: -1;}#sk-container-id-4 div.sk-parallel-item {display: flex;flex-direction: column;z-index: 1;position: relative;background-color: white;}#sk-container-id-4 div.sk-parallel-item:first-child::after {align-self: flex-end;width: 50%;}#sk-container-id-4 div.sk-parallel-item:last-child::after {align-self: flex-start;width: 50%;}#sk-container-id-4 div.sk-parallel-item:only-child::after {width: 0;}#sk-container-id-4 div.sk-dashed-wrapped {border: 1px dashed gray;margin: 0 0.4em 0.5em 0.4em;box-sizing: border-box;padding-bottom: 0.4em;background-color: white;}#sk-container-id-4 div.sk-label label {font-family: monospace;font-weight: bold;display: inline-block;line-height: 1.2em;}#sk-container-id-4 div.sk-label-container {text-align: center;}#sk-container-id-4 div.sk-container {/* jupyter's `normalize.less` sets `[hidden] { display: none; }` but bootstrap.min.css set `[hidden] { display: none !important; }` so we also need the `!important` here to be able to override the default hidden behavior on the sphinx rendered scikit-learn.org. See: https://github.com/scikit-learn/scikit-learn/issues/21755 */display: inline-block !important;position: relative;}#sk-container-id-4 div.sk-text-repr-fallback {display: none;}</style><div id=\"sk-container-id-4\" class=\"sk-top-container\"><div class=\"sk-text-repr-fallback\"><pre>LogisticRegression(max_iter=1000)</pre><b>In a Jupyter environment, please rerun this cell to show the HTML representation or trust the notebook. <br />On GitHub, the HTML representation is unable to render, please try loading this page with nbviewer.org.</b></div><div class=\"sk-container\" hidden><div class=\"sk-item\"><div class=\"sk-estimator sk-toggleable\"><input class=\"sk-toggleable__control sk-hidden--visually\" id=\"sk-estimator-id-4\" type=\"checkbox\" checked><label for=\"sk-estimator-id-4\" class=\"sk-toggleable__label sk-toggleable__label-arrow\">LogisticRegression</label><div class=\"sk-toggleable__content\"><pre>LogisticRegression(max_iter=1000)</pre></div></div></div></div></div>"
      ],
      "text/plain": [
       "LogisticRegression(max_iter=1000)"
      ]
     },
     "execution_count": 66,
     "metadata": {},
     "output_type": "execute_result"
    }
   ],
   "source": [
    "# Train the linear regression model\n",
    "model = LogisticRegression(max_iter = 1000)\n",
    "model.fit(X_train_vectorized, y_train)"
   ]
  },
  {
   "cell_type": "code",
   "execution_count": 67,
   "id": "970c54cc",
   "metadata": {},
   "outputs": [
    {
     "name": "stdout",
     "output_type": "stream",
     "text": [
      "AUC:  0.5551544622425629\n"
     ]
    }
   ],
   "source": [
    "# Predict the transformed test documents\n",
    "predictions = model.predict(X_test_vectorized)\n",
    "print('AUC: ', roc_auc_score(y_test, predictions))"
   ]
  },
  {
   "cell_type": "code",
   "execution_count": 68,
   "id": "ee6e5b9e",
   "metadata": {},
   "outputs": [
    {
     "data": {
      "text/plain": [
       "array([[ 0.00083302,  0.01340121, -0.04756453, ..., -0.00642717,\n",
       "        -0.00223206, -0.00023458]])"
      ]
     },
     "execution_count": 68,
     "metadata": {},
     "output_type": "execute_result"
    }
   ],
   "source": [
    "model.coef_"
   ]
  },
  {
   "cell_type": "code",
   "execution_count": 69,
   "id": "2f9aea49",
   "metadata": {},
   "outputs": [
    {
     "name": "stdout",
     "output_type": "stream",
     "text": [
      "Smallest Coefs:\n",
      "['manufacturers' 'normal' 'smartphon' 'friday' 'collar' 'eventu' 'enorm'\n",
      " 'off' 'common' 'kept']\n",
      "\n",
      "Largest Coefs:\n",
      "['recommend' 'figures' 'likely' 'blow' 'consumers' 'suffer' 'settl'\n",
      " 'eager' 'sarah' 'depress']\n"
     ]
    }
   ],
   "source": [
    "# get the feature names as numpy array\n",
    "feature_names = np.array(vect.get_feature_names_out())\n",
    "\n",
    "# Sort the coefficients from the model\n",
    "sorted_coef_index = model.coef_[0].argsort()\n",
    "\n",
    "# Find the 10 smallest and 10 largest coefficients\n",
    "# The 10 largest coefficients are being indexed using [:-11:-1] \n",
    "# so the list returned is in order of largest to smallest\n",
    "print('Smallest Coefs:\\n{}\\n'.format(feature_names[sorted_coef_index[:10]]))\n",
    "print('Largest Coefs:\\n{}'.format(feature_names[sorted_coef_index[:-11:-1]]))"
   ]
  },
  {
   "cell_type": "code",
   "execution_count": 70,
   "id": "da566f9f",
   "metadata": {
    "scrolled": true
   },
   "outputs": [
    {
     "name": "stdout",
     "output_type": "stream",
     "text": [
      "Logistic Regression roc_auc : 0.5551544622425629, score_train : 0.9998254189944135 and score_test : 0.5795811518324607\n",
      "KNN roc_auc : 0.516687643020595, score_train : 0.7018156424581006 and score_test : 0.5633507853403141\n",
      "Decision Tree roc_auc : 0.5440961098398169, score_train : 0.9998254189944135 and score_test : 0.5649214659685864\n",
      "Random Forest roc_auc : 0.5307265446224256, score_train : 0.9998254189944135 and score_test : 0.6151832460732984\n",
      "SGD Classifier roc_auc : 0.5503203661327231, score_train : 0.9928421787709497 and score_test : 0.5659685863874345\n",
      "Naive Bayes roc_auc : 0.5750457665903891, score_train : 0.7758379888268156 and score_test : 0.5780104712041885\n",
      "SVM Classifier roc_auc : 0.5502288329519451, score_train : 0.9996508379888268 and score_test : 0.5701570680628272\n"
     ]
    }
   ],
   "source": [
    "# define models to train\n",
    "names = [\"Logistic Regression\", \"KNN\", \"Decision Tree\", \"Random Forest\", \"SGD Classifier\", \"Naive Bayes\", \"SVM Classifier\"]\n",
    "\n",
    "classifiers = [\n",
    "    LogisticRegression(max_iter = 10000),\n",
    "    KNeighborsClassifier(),\n",
    "    DecisionTreeClassifier(),\n",
    "    RandomForestClassifier(),\n",
    "    SGDClassifier(max_iter = 100),\n",
    "    MultinomialNB(),\n",
    "    SVC(kernel='linear')\n",
    "]\n",
    "\n",
    "models = zip(names, classifiers)\n",
    "\n",
    "for name, model in models:\n",
    "    model.fit(X_train_vectorized, y_train)\n",
    "    roc_auc = roc_auc_score(y_test, model.predict(X_test_vectorized))\n",
    "    score_train = model.score(X_train_vectorized, y_train)    \n",
    "    score_test = model.score(X_test_vectorized, y_test)\n",
    "    print(\"{} roc_auc : {}, score_train : {} and score_test : {}\".format(name, roc_auc, score_train, score_test))"
   ]
  },
  {
   "cell_type": "markdown",
   "id": "6104c2f2",
   "metadata": {},
   "source": [
    "**Through ROC AUC value, the Naïve Bayes model performs best, with 0.5750 ROC AUC value. \n",
    "Based on testing accuracy, random forest performs best, with 0.6099 accuracy.**"
   ]
  },
  {
   "cell_type": "markdown",
   "id": "6fc6759a",
   "metadata": {},
   "source": [
    "## Tfidf\n",
    "Vector instead of bag of words"
   ]
  },
  {
   "cell_type": "code",
   "execution_count": 71,
   "id": "66e38c80",
   "metadata": {},
   "outputs": [
    {
     "data": {
      "text/plain": [
       "19836"
      ]
     },
     "execution_count": 71,
     "metadata": {},
     "output_type": "execute_result"
    }
   ],
   "source": [
    "from sklearn.feature_extraction.text import TfidfVectorizer\n",
    "\n",
    "# Fit the TfidfVectorizer to the training data specifiying a minimum document frequency of 5\n",
    "tf_vect = TfidfVectorizer(min_df = 5).fit(X_train)\n",
    "len(tf_vect.get_feature_names_out())"
   ]
  },
  {
   "cell_type": "code",
   "execution_count": 72,
   "id": "d8bbfc57",
   "metadata": {},
   "outputs": [
    {
     "name": "stdout",
     "output_type": "stream",
     "text": [
      "AUC:  0.5428775743707094\n"
     ]
    }
   ],
   "source": [
    "X_train_vect_tf = tf_vect.transform(X_train)\n",
    "\n",
    "X_test_vect_tf = tf_vect.transform(X_test)\n",
    "\n",
    "tf_model = LogisticRegression()\n",
    "\n",
    "tf_model.fit(X_train_vect_tf, y_train)\n",
    "\n",
    "tf_predictions = tf_model.predict(X_test_vect_tf)\n",
    "\n",
    "print('AUC: ', roc_auc_score(y_test, tf_predictions))"
   ]
  },
  {
   "cell_type": "code",
   "execution_count": 73,
   "id": "6669d975",
   "metadata": {},
   "outputs": [
    {
     "name": "stdout",
     "output_type": "stream",
     "text": [
      "Smallest tfidf:\n",
      "['reprint' 'abt' 'spotti' 'shadowi' 'interlock' 'flexion' 'intolerable'\n",
      " 'immort' 'trilogy' 'somervil']\n",
      "\n",
      "Largest tfidf: \n",
      "['bitcoin' 'honda' 'porch' 'vw' 'guild' 'wine' 'canola' 'tomato' 'shultz'\n",
      " 'vodka']\n"
     ]
    }
   ],
   "source": [
    "feature_names = np.array(tf_vect.get_feature_names_out())\n",
    "\n",
    "sorted_tfidf_index = X_train_vect_tf.max(0).toarray()[0].argsort()\n",
    "\n",
    "print('Smallest tfidf:\\n{}\\n'.format(feature_names[sorted_tfidf_index[:10]]))\n",
    "print('Largest tfidf: \\n{}'.format(feature_names[sorted_tfidf_index[:-11:-1]]))"
   ]
  },
  {
   "cell_type": "code",
   "execution_count": 74,
   "id": "c3a5828f",
   "metadata": {},
   "outputs": [
    {
     "name": "stdout",
     "output_type": "stream",
     "text": [
      "Smallest Coefs:\n",
      "['friday' 'saturday' 'sunday' 'don' 'wsj' 'dr' 'eventu' 'war' 'normal'\n",
      " 'economist']\n",
      "\n",
      "Largest Coefs: \n",
      "['monday' 'tuesday' 'wednesday' 'financi' 'recommend' 'republican'\n",
      " 'retail' 'educ' 'ethanol' 'energi']\n"
     ]
    }
   ],
   "source": [
    "sorted_coef_index = tf_model.coef_[0].argsort()\n",
    "\n",
    "print('Smallest Coefs:\\n{}\\n'.format(feature_names[sorted_coef_index[:10]]))\n",
    "print('Largest Coefs: \\n{}'.format(feature_names[sorted_coef_index[:-11:-1]]))"
   ]
  },
  {
   "cell_type": "code",
   "execution_count": 75,
   "id": "df5c8d4d",
   "metadata": {
    "scrolled": true
   },
   "outputs": [
    {
     "name": "stdout",
     "output_type": "stream",
     "text": [
      "Logistic Regression roc_auc : 0.5428775743707094, score_train : 0.7702513966480447 and score_test : 0.6104712041884817\n",
      "KNN roc_auc : 0.5540217391304348, score_train : 0.7280027932960894 and score_test : 0.5905759162303665\n",
      "Decision Tree roc_auc : 0.5269508009153319, score_train : 0.9998254189944135 and score_test : 0.5429319371727749\n",
      "Random Forest roc_auc : 0.5344450800915331, score_train : 0.9998254189944135 and score_test : 0.6083769633507854\n",
      "SGD Classifier roc_auc : 0.5614759725400458, score_train : 0.8962988826815642 and score_test : 0.6068062827225131\n",
      "Naive Bayes roc_auc : 0.5044164759725401, score_train : 0.6230796089385475 and score_test : 0.6041884816753926\n",
      "SVM Classifier roc_auc : 0.55354118993135, score_train : 0.8355446927374302 and score_test : 0.612565445026178\n"
     ]
    }
   ],
   "source": [
    "# define models to train\n",
    "names = [\"Logistic Regression\", \"KNN\", \"Decision Tree\", \"Random Forest\", \"SGD Classifier\", \"Naive Bayes\", \"SVM Classifier\"]\n",
    "\n",
    "classifiers = [\n",
    "    LogisticRegression(max_iter = 10000),\n",
    "    KNeighborsClassifier(),\n",
    "    DecisionTreeClassifier(),\n",
    "    RandomForestClassifier(),\n",
    "    SGDClassifier(max_iter = 100),\n",
    "    MultinomialNB(),\n",
    "    SVC(kernel='linear')\n",
    "]\n",
    "\n",
    "models = zip(names, classifiers)\n",
    "\n",
    "for name, model in models:\n",
    "    model.fit(X_train_vect_tf, y_train)\n",
    "    roc_auc = roc_auc_score(y_test, model.predict(X_test_vect_tf))\n",
    "    score_train = model.score(X_train_vect_tf, y_train)    \n",
    "    score_test = model.score(X_test_vect_tf, y_test)\n",
    "    print(\"{} roc_auc : {}, score_train : {} and score_test : {}\".format(name, roc_auc, score_train, score_test))"
   ]
  },
  {
   "cell_type": "markdown",
   "id": "578de69a",
   "metadata": {},
   "source": [
    "**Through ROC AUC value, the Stochastic Gradient Descent (SGD) model performs best, with 0.5643 ROC AUC value. \n",
    "Based on testing accuracy, Support Vector Machine (SVM) performs best, with 0.6126 accuracy.**"
   ]
  },
  {
   "cell_type": "markdown",
   "id": "1781e687",
   "metadata": {},
   "source": [
    "## n-grams"
   ]
  },
  {
   "cell_type": "code",
   "execution_count": 76,
   "id": "b06594e2",
   "metadata": {},
   "outputs": [
    {
     "data": {
      "text/plain": [
       "92979"
      ]
     },
     "execution_count": 76,
     "metadata": {},
     "output_type": "execute_result"
    }
   ],
   "source": [
    "# Fit the CountVectorizer to the training data specifiying a minimum \n",
    "# document frequency of 5 and extracting 1-grams and 2-grams\n",
    "vect_ngrams = CountVectorizer(min_df=5, ngram_range=(1,2)).fit(X_train)\n",
    "\n",
    "X_train_vectorized_ngrams = vect_ngrams.transform(X_train)\n",
    "\n",
    "len(vect_ngrams.get_feature_names())"
   ]
  },
  {
   "cell_type": "code",
   "execution_count": 77,
   "id": "f8f567ab",
   "metadata": {},
   "outputs": [
    {
     "name": "stdout",
     "output_type": "stream",
     "text": [
      "AUC:  0.569324942791762\n"
     ]
    }
   ],
   "source": [
    "model = LogisticRegression()\n",
    "model.fit(X_train_vectorized_ngrams, y_train)\n",
    "\n",
    "X_test_vectorized_ngrams = vect_ngrams.transform(X_test)\n",
    "predictions = model.predict(X_test_vectorized_ngrams)\n",
    "\n",
    "print('AUC: ', roc_auc_score(y_test, predictions))"
   ]
  },
  {
   "cell_type": "code",
   "execution_count": 78,
   "id": "78de122b",
   "metadata": {},
   "outputs": [
    {
     "name": "stdout",
     "output_type": "stream",
     "text": [
      "Smallest n_grams:\n",
      "['cola' 'abil see' 'confrontations' 'compani requir' 'blizzard' 'ban ship'\n",
      " 'bloomberg barclay' 'biggest issu' 'council group' 'concern suppli']\n",
      "\n",
      "Largest n_grams: \n",
      "['aggress polici' 'biden choic' 'china retali' 'crisis accord'\n",
      " 'beijing belt' 'current covid' 'allow fed' 'could end'\n",
      " 'company headquart' 'crimean peninsula']\n",
      "Smallest Coefs:\n",
      "['friday' 'normal' 'eventu' 'kept' 'manufacturers' 'weekli' 'smartphon'\n",
      " 'common' 'off' 'healthi']\n",
      "\n",
      "Largest Coefs: \n",
      "['recommend' 'monday' 'educ' 'assist' 'emphas' 'urg' 'sarah' 'blow'\n",
      " 'depress' 'monetari']\n"
     ]
    }
   ],
   "source": [
    "feature_names = np.array(vect_ngrams.get_feature_names())\n",
    "\n",
    "sorted_ngram_index = X_train_vectorized_ngrams.max(0).toarray()[0].argsort()\n",
    "\n",
    "print('Smallest n_grams:\\n{}\\n'.format(feature_names[sorted_tfidf_index[:10]]))\n",
    "print('Largest n_grams: \\n{}'.format(feature_names[sorted_tfidf_index[:-11:-1]]))\n",
    "\n",
    "sorted_coef_index = model.coef_[0].argsort()\n",
    "\n",
    "print('Smallest Coefs:\\n{}\\n'.format(feature_names[sorted_coef_index[:10]]))\n",
    "print('Largest Coefs: \\n{}'.format(feature_names[sorted_coef_index[:-11:-1]]))"
   ]
  },
  {
   "cell_type": "code",
   "execution_count": 79,
   "id": "6a087fe5",
   "metadata": {},
   "outputs": [
    {
     "name": "stdout",
     "output_type": "stream",
     "text": [
      "Logistic Regression roc_auc : 0.5632036613272311, score_train : 0.9998254189944135 and score_test : 0.5890052356020943\n",
      "KNN roc_auc : 0.5077860411899313, score_train : 0.6984986033519553 and score_test : 0.562303664921466\n",
      "Decision Tree roc_auc : 0.5468821510297482, score_train : 0.9998254189944135 and score_test : 0.5701570680628272\n",
      "Random Forest roc_auc : 0.5233009153318078, score_train : 0.9998254189944135 and score_test : 0.6078534031413613\n",
      "SGD Classifier roc_auc : 0.5597139588100686, score_train : 0.9956354748603352 and score_test : 0.5853403141361256\n",
      "Naive Bayes roc_auc : 0.5821567505720824, score_train : 0.7987081005586593 and score_test : 0.5895287958115183\n",
      "SVM Classifier roc_auc : 0.5619565217391305, score_train : 0.9996508379888268 and score_test : 0.5848167539267015\n"
     ]
    }
   ],
   "source": [
    "# define models to train\n",
    "names = [\"Logistic Regression\", \"KNN\", \"Decision Tree\", \"Random Forest\", \"SGD Classifier\", \"Naive Bayes\", \"SVM Classifier\"]\n",
    "\n",
    "classifiers = [\n",
    "    LogisticRegression(max_iter = 10000),\n",
    "    KNeighborsClassifier(),\n",
    "    DecisionTreeClassifier(),\n",
    "    RandomForestClassifier(),\n",
    "    SGDClassifier(max_iter = 100),\n",
    "    MultinomialNB(),\n",
    "    SVC(kernel='linear')\n",
    "]\n",
    "\n",
    "models = zip(names, classifiers)\n",
    "\n",
    "for name, model in models:\n",
    "    model.fit(X_train_vectorized_ngrams, y_train)\n",
    "    roc_auc = roc_auc_score(y_test, model.predict(X_test_vectorized_ngrams))\n",
    "    score_train = model.score(X_train_vectorized_ngrams, y_train)    \n",
    "    score_test = model.score(X_test_vectorized_ngrams, y_test)\n",
    "    print(\"{} roc_auc : {}, score_train : {} and score_test : {}\".format(name, roc_auc, score_train, score_test))"
   ]
  },
  {
   "cell_type": "markdown",
   "id": "5f2445e4",
   "metadata": {},
   "source": [
    "**Through ROC AUC value, the Naive Bayes model performs best, with 0.5822 ROC AUC value. \n",
    "Based on testing accuracy, Random Forest performs best, with 0.6079 accuracy.**"
   ]
  },
  {
   "cell_type": "markdown",
   "id": "d74d02c4",
   "metadata": {},
   "source": [
    "**In conclusion, Naïve Bayes model is the best model according to ROC AUC value and Random Forest model has the best performance according to testing score. Besides, there is no big difference on the model accuracy utilizing different vectorizers to generate the matrix of token counts.**\n",
    "\n",
    "**We could try to use NLP analysis of WSJ newspaper articles related to U.S. trade to predict the changes of stock price.**"
   ]
  }
 ],
 "metadata": {
  "kernelspec": {
   "display_name": "Python 3 (ipykernel)",
   "language": "python",
   "name": "python3"
  },
  "language_info": {
   "codemirror_mode": {
    "name": "ipython",
    "version": 3
   },
   "file_extension": ".py",
   "mimetype": "text/x-python",
   "name": "python",
   "nbconvert_exporter": "python",
   "pygments_lexer": "ipython3",
   "version": "3.9.17"
  }
 },
 "nbformat": 4,
 "nbformat_minor": 5
}
